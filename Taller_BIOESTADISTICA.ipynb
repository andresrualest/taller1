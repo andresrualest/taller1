{
  "nbformat": 4,
  "nbformat_minor": 0,
  "metadata": {
    "colab": {
      "name": "Taller BIOESTADISTICA.ipynb",
      "provenance": [],
      "collapsed_sections": [],
      "include_colab_link": true
    },
    "kernelspec": {
      "name": "ir",
      "display_name": "R"
    },
    "language_info": {
      "name": "R"
    }
  },
  "cells": [
    {
      "cell_type": "markdown",
      "metadata": {
        "id": "view-in-github",
        "colab_type": "text"
      },
      "source": [
        "<a href=\"https://colab.research.google.com/github/andresrualest/taller1/blob/main/Taller_BIOESTADISTICA.ipynb\" target=\"_parent\"><img src=\"https://colab.research.google.com/assets/colab-badge.svg\" alt=\"Open In Colab\"/></a>"
      ]
    },
    {
      "cell_type": "markdown",
      "metadata": {
        "id": "T6RlnF6kzyaz"
      },
      "source": [
        "# BIOESTADISTICA TALLER 1"
      ]
    },
    {
      "cell_type": "code",
      "metadata": {
        "id": "y3eg1Qopx7aT"
      },
      "source": [
        "ubicacion<-'https://raw.githubusercontent.com/andresrualest/taller1/main/heart_failure_clinical_records_dataset.csv'\n",
        "#ubicacion\n",
        "datos<-read.csv(ubicacion,header = TRUE,sep=';',stringsAsFactors =TRUE )"
      ],
      "execution_count": 1,
      "outputs": []
    },
    {
      "cell_type": "code",
      "metadata": {
        "colab": {
          "base_uri": "https://localhost:8080/"
        },
        "id": "I_WNnjhzxoWK",
        "outputId": "2c2b3c54-dbc3-41ae-d9fe-7f201831d058"
      },
      "source": [
        "#dim(datos)\n",
        "#names(datos)\n",
        "str(datos)"
      ],
      "execution_count": 2,
      "outputs": [
        {
          "output_type": "stream",
          "text": [
            "'data.frame':\t299 obs. of  13 variables:\n",
            " $ age                     : num  75 55 65 50 65 90 75 60 65 80 ...\n",
            " $ anaemia                 : int  0 0 0 1 1 1 1 1 0 1 ...\n",
            " $ creatinine_phosphokinase: int  582 7861 146 111 160 47 246 315 157 123 ...\n",
            " $ diabetes                : int  0 0 0 0 1 0 0 1 0 0 ...\n",
            " $ ejection_fraction       : int  20 38 20 20 20 40 15 60 65 35 ...\n",
            " $ high_blood_pressure     : int  1 0 0 0 0 1 0 0 0 1 ...\n",
            " $ platelets               : num  265000 263358 162000 210000 327000 ...\n",
            " $ serum_creatinine        : num  1.9 1.1 1.3 1.9 2.7 2.1 1.2 1.1 1.5 9.4 ...\n",
            " $ serum_sodium            : int  130 136 129 137 116 132 137 131 138 133 ...\n",
            " $ sex                     : int  1 1 1 1 0 1 1 1 0 1 ...\n",
            " $ smoking                 : int  0 0 1 0 0 1 0 1 0 1 ...\n",
            " $ time                    : int  4 6 7 7 8 8 10 10 10 10 ...\n",
            " $ DEATH_EVENT             : int  1 1 1 1 1 1 1 1 1 1 ...\n"
          ],
          "name": "stdout"
        }
      ]
    },
    {
      "cell_type": "markdown",
      "metadata": {
        "id": "GDvO6_Iv9ZaU"
      },
      "source": [
        "#####**1. DESCRIPCION DEL PROBLEMA:** La base de datos csv registra los información clínica de 299 personas cuyas muestras fueron tomadas en un lapso de tiempo determinado, dichas personas padecen como enfermedad principal una insuficiencia cardiaca para lo cual se analizan 13 características o variables de la enfermedad."
      ]
    },
    {
      "cell_type": "markdown",
      "metadata": {
        "id": "ScsvXQ_C-Ikd"
      },
      "source": [
        "#####**2.DIMENSION DE LA BASE DE DATOS:** En tabla encontramos 299 unidades elementales (pacientes) y 13 variables de la enfermedad."
      ]
    },
    {
      "cell_type": "markdown",
      "metadata": {
        "id": "iiBUaA_g-hJU"
      },
      "source": [
        "#####**3. TIPOS DE VARIABLES:** \n",
        "**3.1 Variables cualitativas nominales:**\n",
        "#####- Anemia\n",
        "#####- Diabetes \n",
        "#####- Hipertensión \n",
        "#####- Sexo\n",
        "#####- Fumador \n",
        "#####- Evento de muerte\n",
        "\n",
        " **3.2 Variables cuantitativas contínuas:**\n",
        "#####- Edad\n",
        "#####- Creatinina fosfoquinasa\n",
        "#####- Fracción de eyección\n",
        "#####- Plaquetas \n",
        "#####- Creatinina sérica\n",
        "#####- Sódio sérico\n",
        "#####- Tiempo "
      ]
    },
    {
      "cell_type": "markdown",
      "metadata": {
        "id": "AJZcESRC_9p_"
      },
      "source": [
        "#####**4. Organizar (Tablas de frecuencia), presentar (Gráficos, y medidas de resumen \"posición, dispersión, forma\") y analizar.** "
      ]
    },
    {
      "cell_type": "markdown",
      "metadata": {
        "id": "AFys2HQc17p2"
      },
      "source": [
        "**4.1 TABLAS DE FRECUENCIAS, GRÁFICOS Y MEDIDAS DE RESUMEN** - *VARIABLES CUALITATIVAS NOMINALES*"
      ]
    },
    {
      "cell_type": "code",
      "metadata": {
        "id": "PBBCOiSv0XDw"
      },
      "source": [
        "tf1<-function(variable,nombre_variable){\n",
        "  fi<-table(variable)\n",
        "  n<-length(variable)\n",
        "  hi<-fi/n\n",
        "  pri<-hi*100\n",
        "  tabla<-cbind(fi,hi,pri)\n",
        "  pie(fi,main = nombre_variable)\n",
        "  return(tabla)\n",
        "  #barplot(fi)\n",
        "  }"
      ],
      "execution_count": 3,
      "outputs": []
    },
    {
      "cell_type": "markdown",
      "metadata": {
        "id": "Nx2lj3jN1gP1"
      },
      "source": [
        "- *VARIABLE ANEMIA*"
      ]
    },
    {
      "cell_type": "code",
      "metadata": {
        "colab": {
          "base_uri": "https://localhost:8080/",
          "height": 547
        },
        "id": "dmp_ZQ5x0gD_",
        "outputId": "4288fc6d-d30b-428b-d60e-702107fe7831"
      },
      "source": [
        "anemia<-datos$anaemia\n",
        "tf1(anemia,'ANEMIA')"
      ],
      "execution_count": 4,
      "outputs": [
        {
          "output_type": "display_data",
          "data": {
            "text/plain": [
              "  fi  hi        pri     \n",
              "0 170 0.5685619 56.85619\n",
              "1 129 0.4314381 43.14381"
            ],
            "text/latex": "A matrix: 2 × 3 of type dbl\n\\begin{tabular}{r|lll}\n  & fi & hi & pri\\\\\n\\hline\n\t0 & 170 & 0.5685619 & 56.85619\\\\\n\t1 & 129 & 0.4314381 & 43.14381\\\\\n\\end{tabular}\n",
            "text/markdown": "\nA matrix: 2 × 3 of type dbl\n\n| <!--/--> | fi | hi | pri |\n|---|---|---|---|\n| 0 | 170 | 0.5685619 | 56.85619 |\n| 1 | 129 | 0.4314381 | 43.14381 |\n\n",
            "text/html": [
              "<table class=\"dataframe\">\n",
              "<caption>A matrix: 2 × 3 of type dbl</caption>\n",
              "<thead>\n",
              "\t<tr><th></th><th scope=col>fi</th><th scope=col>hi</th><th scope=col>pri</th></tr>\n",
              "</thead>\n",
              "<tbody>\n",
              "\t<tr><th scope=row>0</th><td>170</td><td>0.5685619</td><td>56.85619</td></tr>\n",
              "\t<tr><th scope=row>1</th><td>129</td><td>0.4314381</td><td>43.14381</td></tr>\n",
              "</tbody>\n",
              "</table>\n"
            ]
          },
          "metadata": {
            "tags": []
          }
        },
        {
          "output_type": "display_data",
          "data": {
            "image/png": "[encoded data removed]",
            "text/plain": [
              "Plot with title “ANEMIA”"
            ]
          },
          "metadata": {
            "tags": [],
            "image/png": {
              "width": 420,
              "height": 420
            }
          }
        }
      ]
    },
    {
      "cell_type": "markdown",
      "metadata": {
        "id": "LkLeRtZj8WWQ"
      },
      "source": [
        "**Análisis**: La variable anemia consta de 299 unidades elementales, se las debe organizar en 2 clases: con **anemia-sin anemia** de las cuales las personas que no tienen anemia supera por poco a las personas que sí la padecen, pues redondeando son el prácticamente el 57%."
      ]
    },
    {
      "cell_type": "markdown",
      "metadata": {
        "id": "QchMFwfI1vYd"
      },
      "source": [
        "- *VARIABLE DIABETES*"
      ]
    },
    {
      "cell_type": "code",
      "metadata": {
        "colab": {
          "base_uri": "https://localhost:8080/",
          "height": 547
        },
        "id": "NfkN5xewd5ZD",
        "outputId": "6dff9758-7427-402d-f991-c4ce0f15063d"
      },
      "source": [
        "diabetes<-datos$diabetes\n",
        "tf1(diabetes,'DIABETES')"
      ],
      "execution_count": 5,
      "outputs": [
        {
          "output_type": "display_data",
          "data": {
            "text/plain": [
              "  fi  hi        pri     \n",
              "0 174 0.5819398 58.19398\n",
              "1 125 0.4180602 41.80602"
            ],
            "text/latex": "A matrix: 2 × 3 of type dbl\n\\begin{tabular}{r|lll}\n  & fi & hi & pri\\\\\n\\hline\n\t0 & 174 & 0.5819398 & 58.19398\\\\\n\t1 & 125 & 0.4180602 & 41.80602\\\\\n\\end{tabular}\n",
            "text/markdown": "\nA matrix: 2 × 3 of type dbl\n\n| <!--/--> | fi | hi | pri |\n|---|---|---|---|\n| 0 | 174 | 0.5819398 | 58.19398 |\n| 1 | 125 | 0.4180602 | 41.80602 |\n\n",
            "text/html": [
              "<table class=\"dataframe\">\n",
              "<caption>A matrix: 2 × 3 of type dbl</caption>\n",
              "<thead>\n",
              "\t<tr><th></th><th scope=col>fi</th><th scope=col>hi</th><th scope=col>pri</th></tr>\n",
              "</thead>\n",
              "<tbody>\n",
              "\t<tr><th scope=row>0</th><td>174</td><td>0.5819398</td><td>58.19398</td></tr>\n",
              "\t<tr><th scope=row>1</th><td>125</td><td>0.4180602</td><td>41.80602</td></tr>\n",
              "</tbody>\n",
              "</table>\n"
            ]
          },
          "metadata": {
            "tags": []
          }
        },
        {
          "output_type": "display_data",
          "data": {
            "image/png": "[encoded data removed]",
            "text/plain": [
              "Plot with title “DIABETES”"
            ]
          },
          "metadata": {
            "tags": [],
            "image/png": {
              "width": 420,
              "height": 420
            }
          }
        }
      ]
    },
    {
      "cell_type": "markdown",
      "metadata": {
        "id": "ZccVrhio5df9"
      },
      "source": [
        "**Análisis**: La variable Diabetes consta de 299 unidades elementales (pacientes), se las debe organizar en 2 clases: con diabetes y sin diabetes de las cuales las personas que no tienen diabetes supera por poco a las personas que sí la padecen, pues son el 58% las personas que **NO** la tienen."
      ]
    },
    {
      "cell_type": "markdown",
      "metadata": {
        "id": "mskJq9le15Rl"
      },
      "source": [
        "- *VARIABLE HIPERTENSION*"
      ]
    },
    {
      "cell_type": "code",
      "metadata": {
        "colab": {
          "base_uri": "https://localhost:8080/",
          "height": 547
        },
        "id": "bfDBlfPu1I82",
        "outputId": "2d0c16f7-1eb3-499e-9809-5fd61d7ab47b"
      },
      "source": [
        "hipertension<-datos$high_blood_pressure\n",
        "tf1(hipertension,'HIPERTENSION')"
      ],
      "execution_count": 288,
      "outputs": [
        {
          "output_type": "display_data",
          "data": {
            "text/plain": [
              "  fi  hi        pri     \n",
              "0 194 0.6488294 64.88294\n",
              "1 105 0.3511706 35.11706"
            ],
            "text/latex": "A matrix: 2 × 3 of type dbl\n\\begin{tabular}{r|lll}\n  & fi & hi & pri\\\\\n\\hline\n\t0 & 194 & 0.6488294 & 64.88294\\\\\n\t1 & 105 & 0.3511706 & 35.11706\\\\\n\\end{tabular}\n",
            "text/markdown": "\nA matrix: 2 × 3 of type dbl\n\n| <!--/--> | fi | hi | pri |\n|---|---|---|---|\n| 0 | 194 | 0.6488294 | 64.88294 |\n| 1 | 105 | 0.3511706 | 35.11706 |\n\n",
            "text/html": [
              "<table class=\"dataframe\">\n",
              "<caption>A matrix: 2 × 3 of type dbl</caption>\n",
              "<thead>\n",
              "\t<tr><th></th><th scope=col>fi</th><th scope=col>hi</th><th scope=col>pri</th></tr>\n",
              "</thead>\n",
              "<tbody>\n",
              "\t<tr><th scope=row>0</th><td>194</td><td>0.6488294</td><td>64.88294</td></tr>\n",
              "\t<tr><th scope=row>1</th><td>105</td><td>0.3511706</td><td>35.11706</td></tr>\n",
              "</tbody>\n",
              "</table>\n"
            ]
          },
          "metadata": {
            "tags": []
          }
        },
        {
          "output_type": "display_data",
          "data": {
            "image/png": "[encoded data removed]",
            "text/plain": [
              "Plot with title “HIPERTENSION”"
            ]
          },
          "metadata": {
            "tags": [],
            "image/png": {
              "width": 420,
              "height": 420
            }
          }
        }
      ]
    },
    {
      "cell_type": "markdown",
      "metadata": {
        "id": "Bpj-cukY5Yvz"
      },
      "source": [
        "**Análisis**: La variable Hipertensión consta de 299 unidades elementales (pacientes), se las ha organizado en 2 clases: con hipertensión y sin hipertensión de las cuales las personas que no son hipertensas supera por casi el doble a las personas que sí lo son, pues los pacientes hipertensos son la tercera parte con solo el 35%."
      ]
    },
    {
      "cell_type": "markdown",
      "metadata": {
        "id": "AbhdJYG32RSt"
      },
      "source": [
        "- *VARIABLE SEXO*"
      ]
    },
    {
      "cell_type": "code",
      "metadata": {
        "colab": {
          "base_uri": "https://localhost:8080/",
          "height": 547
        },
        "id": "YbRxJ11Ien19",
        "outputId": "d4f4a0e4-d2ed-4caa-f444-b1387735a632"
      },
      "source": [
        "sexo<-datos$sex\n",
        "tf1(sexo,'SEXO')"
      ],
      "execution_count": 7,
      "outputs": [
        {
          "output_type": "display_data",
          "data": {
            "text/plain": [
              "  fi  hi        pri     \n",
              "0 105 0.3511706 35.11706\n",
              "1 194 0.6488294 64.88294"
            ],
            "text/latex": "A matrix: 2 × 3 of type dbl\n\\begin{tabular}{r|lll}\n  & fi & hi & pri\\\\\n\\hline\n\t0 & 105 & 0.3511706 & 35.11706\\\\\n\t1 & 194 & 0.6488294 & 64.88294\\\\\n\\end{tabular}\n",
            "text/markdown": "\nA matrix: 2 × 3 of type dbl\n\n| <!--/--> | fi | hi | pri |\n|---|---|---|---|\n| 0 | 105 | 0.3511706 | 35.11706 |\n| 1 | 194 | 0.6488294 | 64.88294 |\n\n",
            "text/html": [
              "<table class=\"dataframe\">\n",
              "<caption>A matrix: 2 × 3 of type dbl</caption>\n",
              "<thead>\n",
              "\t<tr><th></th><th scope=col>fi</th><th scope=col>hi</th><th scope=col>pri</th></tr>\n",
              "</thead>\n",
              "<tbody>\n",
              "\t<tr><th scope=row>0</th><td>105</td><td>0.3511706</td><td>35.11706</td></tr>\n",
              "\t<tr><th scope=row>1</th><td>194</td><td>0.6488294</td><td>64.88294</td></tr>\n",
              "</tbody>\n",
              "</table>\n"
            ]
          },
          "metadata": {
            "tags": []
          }
        },
        {
          "output_type": "display_data",
          "data": {
            "image/png": "[encoded data removed]",
            "text/plain": [
              "Plot with title “SEXO”"
            ]
          },
          "metadata": {
            "tags": [],
            "image/png": {
              "width": 420,
              "height": 420
            }
          }
        }
      ]
    },
    {
      "cell_type": "markdown",
      "metadata": {
        "id": "RSAjgrW_5NXp"
      },
      "source": [
        "**Análisis**: La variable Sexo consta de 299 unidades elementales, se las debe organizar en 2 clases: masculino y femenino, de las cuales el 65% de los pacientes son mujeres representado de color azul."
      ]
    },
    {
      "cell_type": "markdown",
      "metadata": {
        "id": "wbO_ivO02YP_"
      },
      "source": [
        "- *VARIABLE FUMADOR*"
      ]
    },
    {
      "cell_type": "code",
      "metadata": {
        "colab": {
          "base_uri": "https://localhost:8080/",
          "height": 547
        },
        "id": "u5gGd5XDe0zc",
        "outputId": "fe1a7c89-b082-4456-e00f-038c426be22e"
      },
      "source": [
        "fumador<-datos$smoking\n",
        "tf1(fumador,'FUMADOR')"
      ],
      "execution_count": 8,
      "outputs": [
        {
          "output_type": "display_data",
          "data": {
            "text/plain": [
              "  fi  hi        pri     \n",
              "0 203 0.6789298 67.89298\n",
              "1  96 0.3210702 32.10702"
            ],
            "text/latex": "A matrix: 2 × 3 of type dbl\n\\begin{tabular}{r|lll}\n  & fi & hi & pri\\\\\n\\hline\n\t0 & 203 & 0.6789298 & 67.89298\\\\\n\t1 &  96 & 0.3210702 & 32.10702\\\\\n\\end{tabular}\n",
            "text/markdown": "\nA matrix: 2 × 3 of type dbl\n\n| <!--/--> | fi | hi | pri |\n|---|---|---|---|\n| 0 | 203 | 0.6789298 | 67.89298 |\n| 1 |  96 | 0.3210702 | 32.10702 |\n\n",
            "text/html": [
              "<table class=\"dataframe\">\n",
              "<caption>A matrix: 2 × 3 of type dbl</caption>\n",
              "<thead>\n",
              "\t<tr><th></th><th scope=col>fi</th><th scope=col>hi</th><th scope=col>pri</th></tr>\n",
              "</thead>\n",
              "<tbody>\n",
              "\t<tr><th scope=row>0</th><td>203</td><td>0.6789298</td><td>67.89298</td></tr>\n",
              "\t<tr><th scope=row>1</th><td> 96</td><td>0.3210702</td><td>32.10702</td></tr>\n",
              "</tbody>\n",
              "</table>\n"
            ]
          },
          "metadata": {
            "tags": []
          }
        },
        {
          "output_type": "display_data",
          "data": {
            "image/png": "[encoded data removed]",
            "text/plain": [
              "Plot with title “FUMADOR”"
            ]
          },
          "metadata": {
            "tags": [],
            "image/png": {
              "width": 420,
              "height": 420
            }
          }
        }
      ]
    },
    {
      "cell_type": "markdown",
      "metadata": {
        "id": "bKKXdnn55Ii5"
      },
      "source": [
        "**Análisis**: La variable Fumadores consta de 299 unidades elementales, se las debe organizar en 2 clases: Los que fuman y los que no, de las cuales prácticamente el 68% de los pacientes no son fumadores."
      ]
    },
    {
      "cell_type": "markdown",
      "metadata": {
        "id": "T_kzIMqr2dAk"
      },
      "source": [
        "- *VARIABLE EVENTO DE MUERTE*"
      ]
    },
    {
      "cell_type": "code",
      "metadata": {
        "colab": {
          "base_uri": "https://localhost:8080/",
          "height": 547
        },
        "id": "AptXcGpSe9Qe",
        "outputId": "19a7b755-1ea4-473f-ccf1-5d134495e8e6"
      },
      "source": [
        "eventodemuerte<-datos$DEATH_EVENT\n",
        "tf1(eventodemuerte,'EVENTO DE MUERTE')\n"
      ],
      "execution_count": 9,
      "outputs": [
        {
          "output_type": "display_data",
          "data": {
            "text/plain": [
              "  fi  hi        pri     \n",
              "0 203 0.6789298 67.89298\n",
              "1  96 0.3210702 32.10702"
            ],
            "text/latex": "A matrix: 2 × 3 of type dbl\n\\begin{tabular}{r|lll}\n  & fi & hi & pri\\\\\n\\hline\n\t0 & 203 & 0.6789298 & 67.89298\\\\\n\t1 &  96 & 0.3210702 & 32.10702\\\\\n\\end{tabular}\n",
            "text/markdown": "\nA matrix: 2 × 3 of type dbl\n\n| <!--/--> | fi | hi | pri |\n|---|---|---|---|\n| 0 | 203 | 0.6789298 | 67.89298 |\n| 1 |  96 | 0.3210702 | 32.10702 |\n\n",
            "text/html": [
              "<table class=\"dataframe\">\n",
              "<caption>A matrix: 2 × 3 of type dbl</caption>\n",
              "<thead>\n",
              "\t<tr><th></th><th scope=col>fi</th><th scope=col>hi</th><th scope=col>pri</th></tr>\n",
              "</thead>\n",
              "<tbody>\n",
              "\t<tr><th scope=row>0</th><td>203</td><td>0.6789298</td><td>67.89298</td></tr>\n",
              "\t<tr><th scope=row>1</th><td> 96</td><td>0.3210702</td><td>32.10702</td></tr>\n",
              "</tbody>\n",
              "</table>\n"
            ]
          },
          "metadata": {
            "tags": []
          }
        },
        {
          "output_type": "display_data",
          "data": {
            "image/png": "[encoded data removed]",
            "text/plain": [
              "Plot with title “EVENTO DE MUERTE”"
            ]
          },
          "metadata": {
            "tags": [],
            "image/png": {
              "width": 420,
              "height": 420
            }
          }
        }
      ]
    },
    {
      "cell_type": "markdown",
      "metadata": {
        "id": "41zPmGen5UGg"
      },
      "source": [
        "**Análisis**: La variable Evento de muerte consta de 299 unidades elementales, se las debe organizar en 2 clases: vivos y fallecidos, de las cuales el 68% de los pacientes fallecieron durante el seguimiento."
      ]
    },
    {
      "cell_type": "markdown",
      "metadata": {
        "id": "AL9ZBrGNXphB"
      },
      "source": [
        "\n",
        "\n",
        "---\n",
        "\n"
      ]
    },
    {
      "cell_type": "markdown",
      "metadata": {
        "id": "df0qqltA2tXE"
      },
      "source": [
        "\n",
        "\n",
        "---\n",
        "\n"
      ]
    },
    {
      "cell_type": "markdown",
      "metadata": {
        "id": "I_lbOPDK2kuU"
      },
      "source": [
        "\n",
        "\n",
        "---\n",
        "\n"
      ]
    },
    {
      "cell_type": "markdown",
      "metadata": {
        "id": "ToUCfPoxApoR"
      },
      "source": [
        "**4.2 TABLAS DE FRECUENCIAS, GRÁFICOS Y MEDIDAS DE RESUMEN** - *VARIABLES CUANTITATIVAS CONTÍNUAS*\n"
      ]
    },
    {
      "cell_type": "markdown",
      "metadata": {
        "id": "xS4imDdQMWKB"
      },
      "source": [
        "- *VARIABLE EDAD*"
      ]
    },
    {
      "cell_type": "code",
      "metadata": {
        "id": "5G0aOnNzM0EV"
      },
      "source": [
        "edad<-datos$age"
      ],
      "execution_count": 153,
      "outputs": []
    },
    {
      "cell_type": "code",
      "metadata": {
        "colab": {
          "base_uri": "https://localhost:8080/",
          "height": 34
        },
        "id": "at_bq0CsNMSR",
        "outputId": "f48e53ae-b632-4b45-8ebc-fbc00d6a3621"
      },
      "source": [
        "#tf1(edad,'Variable edad')\n",
        "k<-1+3.32*log10(299)\n",
        "round(k)"
      ],
      "execution_count": 159,
      "outputs": [
        {
          "output_type": "display_data",
          "data": {
            "text/plain": [
              "[1] 9"
            ],
            "text/latex": "9",
            "text/markdown": "9",
            "text/html": [
              "9"
            ]
          },
          "metadata": {
            "tags": []
          }
        }
      ]
    },
    {
      "cell_type": "code",
      "metadata": {
        "id": "8qgX-WgxNh9a"
      },
      "source": [
        "calW<-function(v){\n",
        "  r=max(v)-min(v)\n",
        "  k=1+3.32*log10(length(v))\n",
        "  k<-round(k)\n",
        "  w=r/k\n",
        "  w\n",
        "}"
      ],
      "execution_count": 160,
      "outputs": []
    },
    {
      "cell_type": "markdown",
      "metadata": {
        "id": "xz09HxTq225l"
      },
      "source": [
        "ANCHO DE CLASES"
      ]
    },
    {
      "cell_type": "code",
      "metadata": {
        "colab": {
          "base_uri": "https://localhost:8080/",
          "height": 34
        },
        "id": "L8WsMuI_Nwij",
        "outputId": "10b6dc62-c003-4a77-e7a2-68387de96ab0"
      },
      "source": [
        "calW(edad)\n",
        "w<-7"
      ],
      "execution_count": 161,
      "outputs": [
        {
          "output_type": "display_data",
          "data": {
            "text/plain": [
              "[1] 6.111111"
            ],
            "text/latex": "6.11111111111111",
            "text/markdown": "6.11111111111111",
            "text/html": [
              "6.11111111111111"
            ]
          },
          "metadata": {
            "tags": []
          }
        }
      ]
    },
    {
      "cell_type": "markdown",
      "metadata": {
        "id": "_clm3ZQiTpaJ"
      },
      "source": [
        "TABLA DE FRECUENCIA E HISTOGRAMA DE LA VARIABLE EDAD"
      ]
    },
    {
      "cell_type": "code",
      "metadata": {
        "id": "u94dB4C_OP1N"
      },
      "source": [
        "tfCont<-function(v,w,nombre){\n",
        "  k=1+3.32*log10(length(v))\n",
        "  k=round(k)\n",
        "  LS<-c()\n",
        "  LI<-c()\n",
        "  LS[1]=min(v)+w\n",
        "  LI[1]=min(v)\n",
        "  for (i in 2:k){ \n",
        "    LS[i]=LS[i-1]+w\n",
        "    LI[i]=LI[i-1]+w\n",
        "  }\n",
        "  h<-hist(v,seq(min(v),max(LS),w),plot=F)\n",
        "  fi<-h$counts\n",
        "  hi<-fi/sum(fi)\n",
        "  pi<-hi*100\n",
        "  Fi<-cumsum(fi)\n",
        "  Hi<-cumsum(hi)\n",
        "  Pi<-cumsum(pi)\n",
        "  hist(v,seq(min(v),max(LS),w),freq=FALSE,col='green',plot=T,main = paste('Histograma:',nombre))\n",
        "  lines(density(v),col=\"red\",lwd=2)\n",
        "  abline(v=mean(v),col='red')\n",
        "  abline(v=median(v),col='blue')\n",
        "  curve(dnorm(x,mean=mean(v),sd=sd(v)), from=800,to=1600,add=TRUE, col=\"blue\", lwd=2)\n",
        "  K<-1:k\n",
        "  atributos<-cbind(K,LI,LS,fi,hi,pi,Fi,Hi,Pi)\n",
        "  totales<-c(' ',' ','TOTAL',sum(fi),sum(hi),sum(pi),' ',' ',' ')\n",
        "  r<-rbind(atributos,totales)\n",
        "  View(r)\n",
        "}"
      ],
      "execution_count": 289,
      "outputs": []
    },
    {
      "cell_type": "code",
      "metadata": {
        "colab": {
          "base_uri": "https://localhost:8080/",
          "height": 794
        },
        "id": "kPEqkiKRRrfP",
        "outputId": "33350dd3-95c1-43f4-f4dd-e8d589501c00"
      },
      "source": [
        "tfCont(edad,7,'Edad')"
      ],
      "execution_count": 291,
      "outputs": [
        {
          "output_type": "display_data",
          "data": {
            "text/markdown": "\nA matrix: 10 × 9 of type chr\n\n| <!--/--> | K | LI | LS | fi | hi | pi | Fi | Hi | Pi |\n|---|---|---|---|---|---|---|---|---|---|\n| <!----> | 1 | 40 | 47    | 41  | 0.137123745819398  | 13.7123745819398 | 41  | 0.137123745819398 | 13.7123745819398 |\n| <!----> | 2 | 47 | 54    | 54  | 0.180602006688963  | 18.0602006688963 | 95  | 0.317725752508361 | 31.7725752508361 |\n| <!----> | 3 | 54 | 61    | 73  | 0.244147157190635  | 24.4147157190635 | 168 | 0.561872909698997 | 56.1872909698997 |\n| <!----> | 4 | 61 | 68    | 51  | 0.17056856187291   | 17.056856187291  | 219 | 0.732441471571906 | 73.2441471571906 |\n| <!----> | 5 | 68 | 75    | 50  | 0.167224080267559  | 16.7224080267559 | 269 | 0.899665551839465 | 89.9665551839465 |\n| <!----> | 6 | 75 | 82    | 16  | 0.0535117056856187 | 5.35117056856187 | 285 | 0.953177257525084 | 95.3177257525084 |\n| <!----> | 7 | 82 | 89    | 8   | 0.0267558528428094 | 2.67558528428094 | 293 | 0.979933110367893 | 97.9933110367893 |\n| <!----> | 8 | 89 | 96    | 6   | 0.020066889632107  | 2.0066889632107  | 299 | 1                 | 100              |\n| <!----> | 9 | 96 | 103   | 0   | 0                  | 0                | 299 | 1                 | 100              |\n| totales | <!----> | <!----> | TOTAL | 299 | 1                  | 100              | <!----> | <!----> | <!----> |\n\n",
            "text/latex": "A matrix: 10 × 9 of type chr\n\\begin{tabular}{r|lllllllll}\n  & K & LI & LS & fi & hi & pi & Fi & Hi & Pi\\\\\n\\hline\n\t & 1 & 40 & 47    & 41  & 0.137123745819398  & 13.7123745819398 & 41  & 0.137123745819398 & 13.7123745819398\\\\\n\t & 2 & 47 & 54    & 54  & 0.180602006688963  & 18.0602006688963 & 95  & 0.317725752508361 & 31.7725752508361\\\\\n\t & 3 & 54 & 61    & 73  & 0.244147157190635  & 24.4147157190635 & 168 & 0.561872909698997 & 56.1872909698997\\\\\n\t & 4 & 61 & 68    & 51  & 0.17056856187291   & 17.056856187291  & 219 & 0.732441471571906 & 73.2441471571906\\\\\n\t & 5 & 68 & 75    & 50  & 0.167224080267559  & 16.7224080267559 & 269 & 0.899665551839465 & 89.9665551839465\\\\\n\t & 6 & 75 & 82    & 16  & 0.0535117056856187 & 5.35117056856187 & 285 & 0.953177257525084 & 95.3177257525084\\\\\n\t & 7 & 82 & 89    & 8   & 0.0267558528428094 & 2.67558528428094 & 293 & 0.979933110367893 & 97.9933110367893\\\\\n\t & 8 & 89 & 96    & 6   & 0.020066889632107  & 2.0066889632107  & 299 & 1                 & 100             \\\\\n\t & 9 & 96 & 103   & 0   & 0                  & 0                & 299 & 1                 & 100             \\\\\n\ttotales &   &    & TOTAL & 299 & 1                  & 100              &     &                   &                 \\\\\n\\end{tabular}\n",
            "text/html": [
              "<table class=\"dataframe\">\n",
              "<caption>A matrix: 10 × 9 of type chr</caption>\n",
              "<thead>\n",
              "\t<tr><th></th><th scope=col>K</th><th scope=col>LI</th><th scope=col>LS</th><th scope=col>fi</th><th scope=col>hi</th><th scope=col>pi</th><th scope=col>Fi</th><th scope=col>Hi</th><th scope=col>Pi</th></tr>\n",
              "</thead>\n",
              "<tbody>\n",
              "\t<tr><th scope=row></th><td>1</td><td>40</td><td>47   </td><td>41 </td><td>0.137123745819398 </td><td>13.7123745819398</td><td>41 </td><td>0.137123745819398</td><td>13.7123745819398</td></tr>\n",
              "\t<tr><th scope=row></th><td>2</td><td>47</td><td>54   </td><td>54 </td><td>0.180602006688963 </td><td>18.0602006688963</td><td>95 </td><td>0.317725752508361</td><td>31.7725752508361</td></tr>\n",
              "\t<tr><th scope=row></th><td>3</td><td>54</td><td>61   </td><td>73 </td><td>0.244147157190635 </td><td>24.4147157190635</td><td>168</td><td>0.561872909698997</td><td>56.1872909698997</td></tr>\n",
              "\t<tr><th scope=row></th><td>4</td><td>61</td><td>68   </td><td>51 </td><td>0.17056856187291  </td><td>17.056856187291 </td><td>219</td><td>0.732441471571906</td><td>73.2441471571906</td></tr>\n",
              "\t<tr><th scope=row></th><td>5</td><td>68</td><td>75   </td><td>50 </td><td>0.167224080267559 </td><td>16.7224080267559</td><td>269</td><td>0.899665551839465</td><td>89.9665551839465</td></tr>\n",
              "\t<tr><th scope=row></th><td>6</td><td>75</td><td>82   </td><td>16 </td><td>0.0535117056856187</td><td>5.35117056856187</td><td>285</td><td>0.953177257525084</td><td>95.3177257525084</td></tr>\n",
              "\t<tr><th scope=row></th><td>7</td><td>82</td><td>89   </td><td>8  </td><td>0.0267558528428094</td><td>2.67558528428094</td><td>293</td><td>0.979933110367893</td><td>97.9933110367893</td></tr>\n",
              "\t<tr><th scope=row></th><td>8</td><td>89</td><td>96   </td><td>6  </td><td>0.020066889632107 </td><td>2.0066889632107 </td><td>299</td><td>1                </td><td>100             </td></tr>\n",
              "\t<tr><th scope=row></th><td>9</td><td>96</td><td>103  </td><td>0  </td><td>0                 </td><td>0               </td><td>299</td><td>1                </td><td>100             </td></tr>\n",
              "\t<tr><th scope=row>totales</th><td> </td><td>  </td><td>TOTAL</td><td>299</td><td>1                 </td><td>100             </td><td>   </td><td>                 </td><td>                </td></tr>\n",
              "</tbody>\n",
              "</table>\n"
            ],
            "text/plain": [
              "        K LI LS    fi  hi                 pi               Fi \n",
              "        1 40 47    41  0.137123745819398  13.7123745819398 41 \n",
              "        2 47 54    54  0.180602006688963  18.0602006688963 95 \n",
              "        3 54 61    73  0.244147157190635  24.4147157190635 168\n",
              "        4 61 68    51  0.17056856187291   17.056856187291  219\n",
              "        5 68 75    50  0.167224080267559  16.7224080267559 269\n",
              "        6 75 82    16  0.0535117056856187 5.35117056856187 285\n",
              "        7 82 89    8   0.0267558528428094 2.67558528428094 293\n",
              "        8 89 96    6   0.020066889632107  2.0066889632107  299\n",
              "        9 96 103   0   0                  0                299\n",
              "totales      TOTAL 299 1                  100                 \n",
              "        Hi                Pi              \n",
              "        0.137123745819398 13.7123745819398\n",
              "        0.317725752508361 31.7725752508361\n",
              "        0.561872909698997 56.1872909698997\n",
              "        0.732441471571906 73.2441471571906\n",
              "        0.899665551839465 89.9665551839465\n",
              "        0.953177257525084 95.3177257525084\n",
              "        0.979933110367893 97.9933110367893\n",
              "        1                 100             \n",
              "        1                 100             \n",
              "totales                                   "
            ]
          },
          "metadata": {
            "tags": []
          }
        },
        {
          "output_type": "display_data",
          "data": {
            "image/png": "[encoded data removed]",
            "text/plain": [
              "Plot with title “Histograma: Edad”"
            ]
          },
          "metadata": {
            "tags": [],
            "image/png": {
              "width": 420,
              "height": 420
            }
          }
        }
      ]
    },
    {
      "cell_type": "markdown",
      "metadata": {
        "id": "7NMrRg13SCs2"
      },
      "source": [
        "**Análisis**: A la variable contínua analizada (EDAD) se la ha organizado en 9 clases desde los 40 años hasta los 103 años. La mayor cantidad de personas son las comprendidas entre los 54-61 años con un 24% de todos los pacientes"
      ]
    },
    {
      "cell_type": "markdown",
      "metadata": {
        "id": "57iICJkeT6sw"
      },
      "source": [
        "MEDIA (EDAD)"
      ]
    },
    {
      "cell_type": "code",
      "metadata": {
        "colab": {
          "base_uri": "https://localhost:8080/",
          "height": 34
        },
        "id": "ukEJCKApUobw",
        "outputId": "6afd04cf-6cf1-4fe1-9ca2-8dfeaef36d29"
      },
      "source": [
        "mean(edad)"
      ],
      "execution_count": 165,
      "outputs": [
        {
          "output_type": "display_data",
          "data": {
            "text/plain": [
              "[1] 60.83389"
            ],
            "text/latex": "60.8338929765886",
            "text/markdown": "60.8338929765886",
            "text/html": [
              "60.8338929765886"
            ]
          },
          "metadata": {
            "tags": []
          }
        }
      ]
    },
    {
      "cell_type": "markdown",
      "metadata": {
        "id": "c6PU1DFwUDUp"
      },
      "source": [
        "MEDIANA (EDAD)"
      ]
    },
    {
      "cell_type": "code",
      "metadata": {
        "colab": {
          "base_uri": "https://localhost:8080/",
          "height": 34
        },
        "id": "1oWG5AD0Uu-l",
        "outputId": "8c0dc495-34ad-4c95-e598-b155bcdaecf9"
      },
      "source": [
        "median(edad)"
      ],
      "execution_count": 166,
      "outputs": [
        {
          "output_type": "display_data",
          "data": {
            "text/plain": [
              "[1] 60"
            ],
            "text/latex": "60",
            "text/markdown": "60",
            "text/html": [
              "60"
            ]
          },
          "metadata": {
            "tags": []
          }
        }
      ]
    },
    {
      "cell_type": "markdown",
      "metadata": {
        "id": "XmpxGofSUFVr"
      },
      "source": [
        "RANGO ESTADISTICO (EDAD)"
      ]
    },
    {
      "cell_type": "code",
      "metadata": {
        "colab": {
          "base_uri": "https://localhost:8080/",
          "height": 34
        },
        "id": "YQKZdC-UU0RZ",
        "outputId": "2c50dc78-403f-4ad0-f5d0-077c65352204"
      },
      "source": [
        "max(edad)-min(edad)"
      ],
      "execution_count": 167,
      "outputs": [
        {
          "output_type": "display_data",
          "data": {
            "text/plain": [
              "[1] 55"
            ],
            "text/latex": "55",
            "text/markdown": "55",
            "text/html": [
              "55"
            ]
          },
          "metadata": {
            "tags": []
          }
        }
      ]
    },
    {
      "cell_type": "markdown",
      "metadata": {
        "id": "kpDJB0QaUIVj"
      },
      "source": [
        "RANGO INTERCUANTILICO (EDAD)"
      ]
    },
    {
      "cell_type": "code",
      "metadata": {
        "colab": {
          "base_uri": "https://localhost:8080/",
          "height": 34
        },
        "id": "sJXtvl_KU2-_",
        "outputId": "437b0365-ed8e-42ef-d979-d203c7b11237"
      },
      "source": [
        "q1<-quantile(edad,0.25)\n",
        "q3<-quantile(edad,0.75)\n",
        "q3-q1"
      ],
      "execution_count": 168,
      "outputs": [
        {
          "output_type": "display_data",
          "data": {
            "text/plain": [
              "75% \n",
              " 19 "
            ],
            "text/latex": "\\textbf{75\\textbackslash{}\\%:} 19",
            "text/markdown": "**75%:** 19",
            "text/html": [
              "<strong>75%:</strong> 19"
            ]
          },
          "metadata": {
            "tags": []
          }
        }
      ]
    },
    {
      "cell_type": "markdown",
      "metadata": {
        "id": "qapip53LUOl4"
      },
      "source": [
        "VARIANZA (EDAD)"
      ]
    },
    {
      "cell_type": "code",
      "metadata": {
        "colab": {
          "base_uri": "https://localhost:8080/",
          "height": 34
        },
        "id": "cGLBtlXnVD4Y",
        "outputId": "78a4e217-6071-4c49-d0d8-373018b01698"
      },
      "source": [
        "var(edad)"
      ],
      "execution_count": 169,
      "outputs": [
        {
          "output_type": "display_data",
          "data": {
            "text/plain": [
              "[1] 141.4865"
            ],
            "text/latex": "141.486482907971",
            "text/markdown": "141.486482907971",
            "text/html": [
              "141.486482907971"
            ]
          },
          "metadata": {
            "tags": []
          }
        }
      ]
    },
    {
      "cell_type": "markdown",
      "metadata": {
        "id": "MKnWKlmjUSF8"
      },
      "source": [
        "DESVIACION ESTANDAR (EDAD)"
      ]
    },
    {
      "cell_type": "code",
      "metadata": {
        "colab": {
          "base_uri": "https://localhost:8080/",
          "height": 34
        },
        "id": "Bzb5P5CbVHup",
        "outputId": "2c1c2839-dcd7-4d9e-a29f-85e92b3fc4dd"
      },
      "source": [
        "sd(edad)"
      ],
      "execution_count": 170,
      "outputs": [
        {
          "output_type": "display_data",
          "data": {
            "text/plain": [
              "[1] 11.89481"
            ],
            "text/latex": "11.8948090740445",
            "text/markdown": "11.8948090740445",
            "text/html": [
              "11.8948090740445"
            ]
          },
          "metadata": {
            "tags": []
          }
        }
      ]
    },
    {
      "cell_type": "markdown",
      "metadata": {
        "id": "vh4rBR6BUWAO"
      },
      "source": [
        "COEFICIENTE DE VARIABILIDAD (EDAD)"
      ]
    },
    {
      "cell_type": "code",
      "metadata": {
        "colab": {
          "base_uri": "https://localhost:8080/",
          "height": 34
        },
        "id": "C3K6iM0BVLMO",
        "outputId": "b3e5ca27-cf6e-4284-83b7-fe4acbb73595"
      },
      "source": [
        "sd(edad)/mean(edad)*100"
      ],
      "execution_count": 171,
      "outputs": [
        {
          "output_type": "display_data",
          "data": {
            "text/plain": [
              "[1] 19.55293"
            ],
            "text/latex": "19.5529309272087",
            "text/markdown": "19.5529309272087",
            "text/html": [
              "19.5529309272087"
            ]
          },
          "metadata": {
            "tags": []
          }
        }
      ]
    },
    {
      "cell_type": "markdown",
      "metadata": {
        "id": "nNm1qPfCUZtA"
      },
      "source": [
        "GRAFICO DE CAJAS Y BIGOTES (EDAD)"
      ]
    },
    {
      "cell_type": "code",
      "metadata": {
        "colab": {
          "base_uri": "https://localhost:8080/",
          "height": 437
        },
        "id": "xBAMgwwPV-S6",
        "outputId": "2471c3db-aa45-415c-da67-3b9f5b7f4007"
      },
      "source": [
        "boxplot(edad,vertical = TRUE)"
      ],
      "execution_count": 172,
      "outputs": [
        {
          "output_type": "display_data",
          "data": {
            "image/png": "[encoded data removed]",
            "text/plain": [
              "plot without title"
            ]
          },
          "metadata": {
            "tags": [],
            "image/png": {
              "width": 420,
              "height": 420
            }
          }
        }
      ]
    },
    {
      "cell_type": "markdown",
      "metadata": {
        "id": "j3te0zYSWHJI"
      },
      "source": [
        "- **ANALISIS:** Tenemos una distribución asimétrica positiva pues la mayor dispersión se encuentra en el 50% superior. Pocas personas tienen una edad muy avanzada, la mayor parte de personas tiene una edad comprendida entre los 50 y 70 años y no se encuentra valores atípicos."
      ]
    },
    {
      "cell_type": "markdown",
      "metadata": {
        "id": "aAjaRB9jUfIM"
      },
      "source": [
        "ASIMETRIA (EDAD)"
      ]
    },
    {
      "cell_type": "code",
      "metadata": {
        "colab": {
          "base_uri": "https://localhost:8080/",
          "height": 34
        },
        "id": "3TkQrJAzW-04",
        "outputId": "eaab69aa-9861-47d0-9f55-d4e07731b488"
      },
      "source": [
        "3*(mean(edad)-median(edad))/sd(edad)"
      ],
      "execution_count": 174,
      "outputs": [
        {
          "output_type": "display_data",
          "data": {
            "text/plain": [
              "[1] 0.2103169"
            ],
            "text/latex": "0.210316862943582",
            "text/markdown": "0.210316862943582",
            "text/html": [
              "0.210316862943582"
            ]
          },
          "metadata": {
            "tags": []
          }
        }
      ]
    },
    {
      "cell_type": "markdown",
      "metadata": {
        "id": "wNJi5Su0Aakn"
      },
      "source": [
        "*Tiene una distribución asimétrica, pues el valor es mayor de 0.*"
      ]
    },
    {
      "cell_type": "markdown",
      "metadata": {
        "id": "93tRF6hqUg8A"
      },
      "source": [
        "CURTOSIS (EDAD)"
      ]
    },
    {
      "cell_type": "code",
      "metadata": {
        "colab": {
          "base_uri": "https://localhost:8080/",
          "height": 34
        },
        "id": "B7GkY_LdXN8V",
        "outputId": "899dd9e1-cb39-4cfe-f742-ea1b79a795aa"
      },
      "source": [
        "q1<-quantile(edad,0.25)\n",
        "q3<-quantile(edad,0.75)\n",
        "d1<-quantile(edad,0.10)\n",
        "d9<-quantile(edad,0.90)\n",
        "0.5*(q3-q1)/(d9-d1)"
      ],
      "execution_count": 178,
      "outputs": [
        {
          "output_type": "display_data",
          "data": {
            "text/plain": [
              "   75% \n",
              "0.3125 "
            ],
            "text/latex": "\\textbf{75\\textbackslash{}\\%:} 0.3125",
            "text/markdown": "**75%:** 0.3125",
            "text/html": [
              "<strong>75%:</strong> 0.3125"
            ]
          },
          "metadata": {
            "tags": []
          }
        }
      ]
    },
    {
      "cell_type": "markdown",
      "metadata": {
        "id": "Q3jr9VH8XVES"
      },
      "source": [
        "*Tiene una distribución leptocúrtica, el valor es mayor de 0.25, es decir existe muchas personas que se condensan en una edad determinada pequeña.*"
      ]
    },
    {
      "cell_type": "markdown",
      "metadata": {
        "id": "8J8Gn4vua_LO"
      },
      "source": [
        "\n",
        "\n",
        "---\n",
        "\n"
      ]
    },
    {
      "cell_type": "markdown",
      "metadata": {
        "id": "YDbrRcODbldj"
      },
      "source": [
        "- *VARIABLE CREATININA FOSFOQUINASA*"
      ]
    },
    {
      "cell_type": "code",
      "metadata": {
        "colab": {
          "base_uri": "https://localhost:8080/",
          "height": 34
        },
        "id": "_iNZzcKibE5_",
        "outputId": "30a129f3-316a-49cb-d5bd-825efd19b97e"
      },
      "source": [
        "creatininafosfoquinasa<-datos$creatinine_phosphokinase\n",
        "#tf1(creatininafosfoquinasa,'Variable creatininafosfoquinasa')\n",
        "k<-1+3.32*log10(299)\n",
        "round(k)"
      ],
      "execution_count": 189,
      "outputs": [
        {
          "output_type": "display_data",
          "data": {
            "text/plain": [
              "[1] 9"
            ],
            "text/latex": "9",
            "text/markdown": "9",
            "text/html": [
              "9"
            ]
          },
          "metadata": {
            "tags": []
          }
        }
      ]
    },
    {
      "cell_type": "code",
      "metadata": {
        "id": "mdXj1fXqbE6A"
      },
      "source": [
        "calW<-function(v){\n",
        "  r=max(v)-min(v)\n",
        "  k=1+3.32*log10(length(v))\n",
        "  k<-round(k)\n",
        "  w=r/k\n",
        "  w\n",
        "}"
      ],
      "execution_count": 190,
      "outputs": []
    },
    {
      "cell_type": "markdown",
      "metadata": {
        "id": "yAUPg95hEtHU"
      },
      "source": [
        "ANCHO DE CLASES"
      ]
    },
    {
      "cell_type": "code",
      "metadata": {
        "colab": {
          "base_uri": "https://localhost:8080/",
          "height": 34
        },
        "id": "open1gqebE6B",
        "outputId": "590a536d-9f1b-4ec7-ca21-3031d83363b0"
      },
      "source": [
        "calW(creatininafosfoquinasa)\n",
        "w<-871"
      ],
      "execution_count": 191,
      "outputs": [
        {
          "output_type": "display_data",
          "data": {
            "text/plain": [
              "[1] 870.8889"
            ],
            "text/latex": "870.888888888889",
            "text/markdown": "870.888888888889",
            "text/html": [
              "870.888888888889"
            ]
          },
          "metadata": {
            "tags": []
          }
        }
      ]
    },
    {
      "cell_type": "markdown",
      "metadata": {
        "id": "xj4QnbnzcJbn"
      },
      "source": [
        "TABLA DE FRECUENCIA E HISTOGRAMA"
      ]
    },
    {
      "cell_type": "code",
      "metadata": {
        "id": "UqZOoVUnbE6B"
      },
      "source": [
        "tfCont<-function(v,w,nombre){\n",
        "  k=1+3.32*log10(length(v))\n",
        "  k=round(k)\n",
        "  LS<-c()\n",
        "  LI<-c()\n",
        "  LS[1]=min(v)+w\n",
        "  LI[1]=min(v)\n",
        "  for (i in 2:k){ \n",
        "    LS[i]=LS[i-1]+w\n",
        "    LI[i]=LI[i-1]+w\n",
        "  }\n",
        "  h<-hist(v,seq(min(v),max(LS),w),plot=F)\n",
        "  fi<-h$counts\n",
        "  hi<-fi/sum(fi)\n",
        "  pi<-hi*100\n",
        "  Fi<-cumsum(fi)\n",
        "  Hi<-cumsum(hi)\n",
        "  Pi<-cumsum(pi)\n",
        "  hist(v,seq(min(v),max(LS),w),freq=FALSE,col='green',plot=T,main = paste('Histograma:',nombre))\n",
        "  lines(density(v),col=\"red\",lwd=2)\n",
        "  abline(v=mean(v),col='red')\n",
        "  abline(v=median(v),col='blue')\n",
        "  curve(dnorm(x,mean=mean(v),sd=sd(v)), from=800,to=1600,add=TRUE, col=\"blue\", lwd=2)\n",
        "  K<-1:k\n",
        "  atributos<-cbind(K,LI,LS,fi,hi,pi,Fi,Hi,Pi)\n",
        "  totales<-c(' ',' ','TOTAL',sum(fi),sum(hi),sum(pi),' ',' ',' ')\n",
        "  r<-rbind(atributos,totales)\n",
        "  View(r)\n",
        "}"
      ],
      "execution_count": 192,
      "outputs": []
    },
    {
      "cell_type": "code",
      "metadata": {
        "colab": {
          "base_uri": "https://localhost:8080/",
          "height": 794
        },
        "id": "1D5uNHjHbE6B",
        "outputId": "1e433243-84eb-4f3b-c3f5-71d4166472e0"
      },
      "source": [
        "tfCont(creatininafosfoquinasa,871,'Creatininafosfoquinasa')"
      ],
      "execution_count": 193,
      "outputs": [
        {
          "output_type": "display_data",
          "data": {
            "text/markdown": "\nA matrix: 10 × 9 of type chr\n\n| <!--/--> | K | LI | LS | fi | hi | pi | Fi | Hi | Pi |\n|---|---|---|---|---|---|---|---|---|---|\n| <!----> | 1 | 23   | 894   | 256 | 0.8561872909699     | 85.61872909699    | 256 | 0.8561872909699   | 85.61872909699   |\n| <!----> | 2 | 894  | 1765  | 19  | 0.0635451505016722  | 6.35451505016722  | 275 | 0.919732441471572 | 91.9732441471572 |\n| <!----> | 3 | 1765 | 2636  | 14  | 0.0468227424749164  | 4.68227424749164  | 289 | 0.966555183946488 | 96.6555183946488 |\n| <!----> | 4 | 2636 | 3507  | 3   | 0.0100334448160535  | 1.00334448160535  | 292 | 0.976588628762542 | 97.6588628762542 |\n| <!----> | 5 | 3507 | 4378  | 2   | 0.00668896321070234 | 0.668896321070234 | 294 | 0.983277591973244 | 98.3277591973244 |\n| <!----> | 6 | 4378 | 5249  | 2   | 0.00668896321070234 | 0.668896321070234 | 296 | 0.989966555183946 | 98.9966555183946 |\n| <!----> | 7 | 5249 | 6120  | 1   | 0.00334448160535117 | 0.334448160535117 | 297 | 0.993311036789298 | 99.3311036789298 |\n| <!----> | 8 | 6120 | 6991  | 0   | 0                   | 0                 | 297 | 0.993311036789298 | 99.3311036789298 |\n| <!----> | 9 | 6991 | 7862  | 2   | 0.00668896321070234 | 0.668896321070234 | 299 | 1                 | 100              |\n| totales | <!----> | <!----> | TOTAL | 299 | 1                   | 100               | <!----> | <!----> | <!----> |\n\n",
            "text/latex": "A matrix: 10 × 9 of type chr\n\\begin{tabular}{r|lllllllll}\n  & K & LI & LS & fi & hi & pi & Fi & Hi & Pi\\\\\n\\hline\n\t & 1 & 23   & 894   & 256 & 0.8561872909699     & 85.61872909699    & 256 & 0.8561872909699   & 85.61872909699  \\\\\n\t & 2 & 894  & 1765  & 19  & 0.0635451505016722  & 6.35451505016722  & 275 & 0.919732441471572 & 91.9732441471572\\\\\n\t & 3 & 1765 & 2636  & 14  & 0.0468227424749164  & 4.68227424749164  & 289 & 0.966555183946488 & 96.6555183946488\\\\\n\t & 4 & 2636 & 3507  & 3   & 0.0100334448160535  & 1.00334448160535  & 292 & 0.976588628762542 & 97.6588628762542\\\\\n\t & 5 & 3507 & 4378  & 2   & 0.00668896321070234 & 0.668896321070234 & 294 & 0.983277591973244 & 98.3277591973244\\\\\n\t & 6 & 4378 & 5249  & 2   & 0.00668896321070234 & 0.668896321070234 & 296 & 0.989966555183946 & 98.9966555183946\\\\\n\t & 7 & 5249 & 6120  & 1   & 0.00334448160535117 & 0.334448160535117 & 297 & 0.993311036789298 & 99.3311036789298\\\\\n\t & 8 & 6120 & 6991  & 0   & 0                   & 0                 & 297 & 0.993311036789298 & 99.3311036789298\\\\\n\t & 9 & 6991 & 7862  & 2   & 0.00668896321070234 & 0.668896321070234 & 299 & 1                 & 100             \\\\\n\ttotales &   &      & TOTAL & 299 & 1                   & 100               &     &                   &                 \\\\\n\\end{tabular}\n",
            "text/html": [
              "<table class=\"dataframe\">\n",
              "<caption>A matrix: 10 × 9 of type chr</caption>\n",
              "<thead>\n",
              "\t<tr><th></th><th scope=col>K</th><th scope=col>LI</th><th scope=col>LS</th><th scope=col>fi</th><th scope=col>hi</th><th scope=col>pi</th><th scope=col>Fi</th><th scope=col>Hi</th><th scope=col>Pi</th></tr>\n",
              "</thead>\n",
              "<tbody>\n",
              "\t<tr><th scope=row></th><td>1</td><td>23  </td><td>894  </td><td>256</td><td>0.8561872909699    </td><td>85.61872909699   </td><td>256</td><td>0.8561872909699  </td><td>85.61872909699  </td></tr>\n",
              "\t<tr><th scope=row></th><td>2</td><td>894 </td><td>1765 </td><td>19 </td><td>0.0635451505016722 </td><td>6.35451505016722 </td><td>275</td><td>0.919732441471572</td><td>91.9732441471572</td></tr>\n",
              "\t<tr><th scope=row></th><td>3</td><td>1765</td><td>2636 </td><td>14 </td><td>0.0468227424749164 </td><td>4.68227424749164 </td><td>289</td><td>0.966555183946488</td><td>96.6555183946488</td></tr>\n",
              "\t<tr><th scope=row></th><td>4</td><td>2636</td><td>3507 </td><td>3  </td><td>0.0100334448160535 </td><td>1.00334448160535 </td><td>292</td><td>0.976588628762542</td><td>97.6588628762542</td></tr>\n",
              "\t<tr><th scope=row></th><td>5</td><td>3507</td><td>4378 </td><td>2  </td><td>0.00668896321070234</td><td>0.668896321070234</td><td>294</td><td>0.983277591973244</td><td>98.3277591973244</td></tr>\n",
              "\t<tr><th scope=row></th><td>6</td><td>4378</td><td>5249 </td><td>2  </td><td>0.00668896321070234</td><td>0.668896321070234</td><td>296</td><td>0.989966555183946</td><td>98.9966555183946</td></tr>\n",
              "\t<tr><th scope=row></th><td>7</td><td>5249</td><td>6120 </td><td>1  </td><td>0.00334448160535117</td><td>0.334448160535117</td><td>297</td><td>0.993311036789298</td><td>99.3311036789298</td></tr>\n",
              "\t<tr><th scope=row></th><td>8</td><td>6120</td><td>6991 </td><td>0  </td><td>0                  </td><td>0                </td><td>297</td><td>0.993311036789298</td><td>99.3311036789298</td></tr>\n",
              "\t<tr><th scope=row></th><td>9</td><td>6991</td><td>7862 </td><td>2  </td><td>0.00668896321070234</td><td>0.668896321070234</td><td>299</td><td>1                </td><td>100             </td></tr>\n",
              "\t<tr><th scope=row>totales</th><td> </td><td>    </td><td>TOTAL</td><td>299</td><td>1                  </td><td>100              </td><td>   </td><td>                 </td><td>                </td></tr>\n",
              "</tbody>\n",
              "</table>\n"
            ],
            "text/plain": [
              "        K LI   LS    fi  hi                  pi                Fi \n",
              "        1 23   894   256 0.8561872909699     85.61872909699    256\n",
              "        2 894  1765  19  0.0635451505016722  6.35451505016722  275\n",
              "        3 1765 2636  14  0.0468227424749164  4.68227424749164  289\n",
              "        4 2636 3507  3   0.0100334448160535  1.00334448160535  292\n",
              "        5 3507 4378  2   0.00668896321070234 0.668896321070234 294\n",
              "        6 4378 5249  2   0.00668896321070234 0.668896321070234 296\n",
              "        7 5249 6120  1   0.00334448160535117 0.334448160535117 297\n",
              "        8 6120 6991  0   0                   0                 297\n",
              "        9 6991 7862  2   0.00668896321070234 0.668896321070234 299\n",
              "totales        TOTAL 299 1                   100                  \n",
              "        Hi                Pi              \n",
              "        0.8561872909699   85.61872909699  \n",
              "        0.919732441471572 91.9732441471572\n",
              "        0.966555183946488 96.6555183946488\n",
              "        0.976588628762542 97.6588628762542\n",
              "        0.983277591973244 98.3277591973244\n",
              "        0.989966555183946 98.9966555183946\n",
              "        0.993311036789298 99.3311036789298\n",
              "        0.993311036789298 99.3311036789298\n",
              "        1                 100             \n",
              "totales                                   "
            ]
          },
          "metadata": {
            "tags": []
          }
        },
        {
          "output_type": "display_data",
          "data": {
            "image/png": "[encoded data removed]",
            "text/plain": [
              "Plot with title “Histograma: Creatininafosfoquinasa”"
            ]
          },
          "metadata": {
            "tags": [],
            "image/png": {
              "width": 420,
              "height": 420
            }
          }
        }
      ]
    },
    {
      "cell_type": "markdown",
      "metadata": {
        "id": "uWSIU2AHbE6C"
      },
      "source": [
        "**Análisis:** A la variable contínua analizada (Creatin fosfokinasa) se la ha organizado en 9 clases dependiendo de la cantidad de la enzima. El 85.6% de los pacientes tiene valores de la enzima comprendidos entre 23 a 894. Dos personas tienen valores muy elevalos de la enzima comprendidos entre los 6991 y 7862. Lo cual es otro de los marcadores que indican afecciones al corazón."
      ]
    },
    {
      "cell_type": "markdown",
      "metadata": {
        "id": "59jud3CMdlRr"
      },
      "source": [
        "MEDIA"
      ]
    },
    {
      "cell_type": "code",
      "metadata": {
        "colab": {
          "base_uri": "https://localhost:8080/",
          "height": 34
        },
        "id": "sq9c5NaOeJ5Z",
        "outputId": "c10cb12c-3384-47ae-c61c-78ef260c8b54"
      },
      "source": [
        "mean(creatininafosfoquinasa)"
      ],
      "execution_count": 194,
      "outputs": [
        {
          "output_type": "display_data",
          "data": {
            "text/plain": [
              "[1] 581.8395"
            ],
            "text/latex": "581.839464882943",
            "text/markdown": "581.839464882943",
            "text/html": [
              "581.839464882943"
            ]
          },
          "metadata": {
            "tags": []
          }
        }
      ]
    },
    {
      "cell_type": "markdown",
      "metadata": {
        "id": "3TuYajv6doYF"
      },
      "source": [
        "MEDIANA"
      ]
    },
    {
      "cell_type": "code",
      "metadata": {
        "colab": {
          "base_uri": "https://localhost:8080/",
          "height": 34
        },
        "id": "Ejg3ixN6eQ0E",
        "outputId": "7e73ca73-57b9-4dd9-a678-881fa8ccc67f"
      },
      "source": [
        "median(creatininafosfoquinasa)"
      ],
      "execution_count": 195,
      "outputs": [
        {
          "output_type": "display_data",
          "data": {
            "text/plain": [
              "[1] 250"
            ],
            "text/latex": "250",
            "text/markdown": "250",
            "text/html": [
              "250"
            ]
          },
          "metadata": {
            "tags": []
          }
        }
      ]
    },
    {
      "cell_type": "markdown",
      "metadata": {
        "id": "sDF0ViY9dptm"
      },
      "source": [
        "RANGO ESTADISTICO"
      ]
    },
    {
      "cell_type": "code",
      "metadata": {
        "colab": {
          "base_uri": "https://localhost:8080/",
          "height": 34
        },
        "id": "gmru9O-beW-H",
        "outputId": "00fdf00c-6175-48b8-b46e-ba3b7c31cd4e"
      },
      "source": [
        "max(creatininafosfoquinasa)-min(creatininafosfoquinasa)"
      ],
      "execution_count": 196,
      "outputs": [
        {
          "output_type": "display_data",
          "data": {
            "text/plain": [
              "[1] 7838"
            ],
            "text/latex": "7838",
            "text/markdown": "7838",
            "text/html": [
              "7838"
            ]
          },
          "metadata": {
            "tags": []
          }
        }
      ]
    },
    {
      "cell_type": "markdown",
      "metadata": {
        "id": "d8Ysty9GdsJg"
      },
      "source": [
        "RANGO INTERCUANTILICO"
      ]
    },
    {
      "cell_type": "code",
      "metadata": {
        "colab": {
          "base_uri": "https://localhost:8080/",
          "height": 34
        },
        "id": "qyxvvREaegVG",
        "outputId": "94e2e51c-efbc-45bc-849c-a801df7eab45"
      },
      "source": [
        "q1<-quantile(creatinafosfoquinasa,0.25)\n",
        "q3<-quantile(creatinafosfoquinasa,0.75)\n",
        "q3-q1"
      ],
      "execution_count": 197,
      "outputs": [
        {
          "output_type": "display_data",
          "data": {
            "text/plain": [
              "  75% \n",
              "465.5 "
            ],
            "text/latex": "\\textbf{75\\textbackslash{}\\%:} 465.5",
            "text/markdown": "**75%:** 465.5",
            "text/html": [
              "<strong>75%:</strong> 465.5"
            ]
          },
          "metadata": {
            "tags": []
          }
        }
      ]
    },
    {
      "cell_type": "markdown",
      "metadata": {
        "id": "VThVkyTAd08_"
      },
      "source": [
        "VARIANZA"
      ]
    },
    {
      "cell_type": "code",
      "metadata": {
        "colab": {
          "base_uri": "https://localhost:8080/",
          "height": 34
        },
        "id": "kWKdqFLjelAp",
        "outputId": "1b854c9c-5278-4316-d130-609224b24ab8"
      },
      "source": [
        "var(creatininafosfoquinasa)"
      ],
      "execution_count": 198,
      "outputs": [
        {
          "output_type": "display_data",
          "data": {
            "text/plain": [
              "[1] 941458.6"
            ],
            "text/latex": "941458.571457431",
            "text/markdown": "941458.571457431",
            "text/html": [
              "941458.571457431"
            ]
          },
          "metadata": {
            "tags": []
          }
        }
      ]
    },
    {
      "cell_type": "markdown",
      "metadata": {
        "id": "TZt-8wdId2I_"
      },
      "source": [
        "DESVIACION ESTANDAR"
      ]
    },
    {
      "cell_type": "code",
      "metadata": {
        "colab": {
          "base_uri": "https://localhost:8080/",
          "height": 34
        },
        "id": "z4_Hn32Ben1H",
        "outputId": "e42d4915-038e-4dce-f5a7-9be24671282c"
      },
      "source": [
        "sd(creatininafosfoquinasa)"
      ],
      "execution_count": 199,
      "outputs": [
        {
          "output_type": "display_data",
          "data": {
            "text/plain": [
              "[1] 970.2879"
            ],
            "text/latex": "970.287880712436",
            "text/markdown": "970.287880712436",
            "text/html": [
              "970.287880712436"
            ]
          },
          "metadata": {
            "tags": []
          }
        }
      ]
    },
    {
      "cell_type": "markdown",
      "metadata": {
        "id": "h5LwUbNAd4kX"
      },
      "source": [
        "COEFICIENTE DE VARIABILIDAD"
      ]
    },
    {
      "cell_type": "code",
      "metadata": {
        "colab": {
          "base_uri": "https://localhost:8080/",
          "height": 34
        },
        "id": "AVImv2kOevY6",
        "outputId": "84ae317e-0b13-456e-a5c1-651f4a2c1637"
      },
      "source": [
        "sd(creatininafosfoquinasa)/mean(creatininafosfoquinasa)*100"
      ],
      "execution_count": 200,
      "outputs": [
        {
          "output_type": "display_data",
          "data": {
            "text/plain": [
              "[1] 166.7621"
            ],
            "text/latex": "166.762129294142",
            "text/markdown": "166.762129294142",
            "text/html": [
              "166.762129294142"
            ]
          },
          "metadata": {
            "tags": []
          }
        }
      ]
    },
    {
      "cell_type": "markdown",
      "metadata": {
        "id": "lH2sudf_d80n"
      },
      "source": [
        "GRAFICO DE CAJAS Y BIGOTES"
      ]
    },
    {
      "cell_type": "code",
      "metadata": {
        "colab": {
          "base_uri": "https://localhost:8080/",
          "height": 437
        },
        "id": "enn8K-AOe_Mu",
        "outputId": "4fd648b8-88f1-4596-c483-c082a8a45efe"
      },
      "source": [
        "boxplot(creatininafosfoquinasa,vertical = TRUE)"
      ],
      "execution_count": 201,
      "outputs": [
        {
          "output_type": "display_data",
          "data": {
            "image/png": "[encoded data removed]",
            "text/plain": [
              "plot without title"
            ]
          },
          "metadata": {
            "tags": [],
            "image/png": {
              "width": 420,
              "height": 420
            }
          }
        }
      ]
    },
    {
      "cell_type": "markdown",
      "metadata": {
        "id": "D-Bwpc63fNHI"
      },
      "source": [
        "**Análisis:** Tenemos una distribución asimétrica positiva pues la mayor dispersión se encuentra en el 50% superior. Pocas personas tienen valores de la enzima muy elevada, la mayor parte de personas tiene valores comprendidos entre 23 y 894 de la enzima. Encontramos valores atípicos por fuera del límite superior. Esto nos señala que muy pocas personas (2) tienen valores muy por encima de 6991 de creatinina fosfoquinasa."
      ]
    },
    {
      "cell_type": "markdown",
      "metadata": {
        "id": "lYCXJeoEeBMX"
      },
      "source": [
        "ASIMETRIA"
      ]
    },
    {
      "cell_type": "code",
      "metadata": {
        "colab": {
          "base_uri": "https://localhost:8080/",
          "height": 34
        },
        "id": "l0ordaotfSa9",
        "outputId": "a3d02737-7984-4023-d72f-02dcedfbe893"
      },
      "source": [
        "3*(mean(creatininafosfoquinasa)-median(creatininafosfoquinasa))/sd(creatininafosfoquinasa)"
      ],
      "execution_count": 202,
      "outputs": [
        {
          "output_type": "display_data",
          "data": {
            "text/plain": [
              "[1] 1.026003"
            ],
            "text/latex": "1.02600312179295",
            "text/markdown": "1.02600312179295",
            "text/html": [
              "1.02600312179295"
            ]
          },
          "metadata": {
            "tags": []
          }
        }
      ]
    },
    {
      "cell_type": "markdown",
      "metadata": {
        "id": "aHP1JyMuJHmS"
      },
      "source": [
        "*Tiene una distribución asimétrica, pues el valor es mayor de 0.*"
      ]
    },
    {
      "cell_type": "markdown",
      "metadata": {
        "id": "qHh5riU3eCGf"
      },
      "source": [
        "CURTOSIS"
      ]
    },
    {
      "cell_type": "code",
      "metadata": {
        "colab": {
          "base_uri": "https://localhost:8080/",
          "height": 34
        },
        "id": "ePOvNB5SbE6D",
        "outputId": "a9b5d796-012e-4956-9a26-1a3cb5cb6a27"
      },
      "source": [
        "q1<-quantile(creatininafosfoquinasa,0.25)\n",
        "q3<-quantile(creatininafosfoquinasa,0.75)\n",
        "d1<-quantile(creatininafosfoquinasa,0.10)\n",
        "d9<-quantile(creatininafosfoquinasa,0.90)\n",
        "0.5*(q3-q1)/(d9-d1)"
      ],
      "execution_count": 204,
      "outputs": [
        {
          "output_type": "display_data",
          "data": {
            "text/plain": [
              "      75% \n",
              "0.2048495 "
            ],
            "text/latex": "\\textbf{75\\textbackslash{}\\%:} 0.204849498327759",
            "text/markdown": "**75%:** 0.204849498327759",
            "text/html": [
              "<strong>75%:</strong> 0.204849498327759"
            ]
          },
          "metadata": {
            "tags": []
          }
        }
      ]
    },
    {
      "cell_type": "markdown",
      "metadata": {
        "id": "PolB-PRDbE6D"
      },
      "source": [
        "*Tiene una distribución platicúrtica, el valor es menor de 0.25*"
      ]
    },
    {
      "cell_type": "markdown",
      "metadata": {
        "id": "1jcDRDbjON9O"
      },
      "source": [
        "\n",
        "\n",
        "---\n",
        "\n"
      ]
    },
    {
      "cell_type": "markdown",
      "metadata": {
        "id": "ZWtORRcXMhqv"
      },
      "source": [
        "- *VARIABLE FRACCION DE EYECCION*"
      ]
    },
    {
      "cell_type": "code",
      "metadata": {
        "id": "sKkZBEmDAmw8"
      },
      "source": [
        "tf2<-function(variable,nombre_variable){\n",
        "  fi<-table(variable)\n",
        "  n<-length(variable)\n",
        "  hi<-fi/n\n",
        "  pri<-hi*100\n",
        "  tabla<-cbind(fi,hi,pri)\n",
        "  plot(fi,main = nombre_variable)\n",
        "  return(tabla)\n",
        "  #barplot(fi)\n",
        "}"
      ],
      "execution_count": 10,
      "outputs": []
    },
    {
      "cell_type": "code",
      "metadata": {
        "colab": {
          "base_uri": "https://localhost:8080/",
          "height": 34
        },
        "id": "o_AmnarkAvtZ",
        "outputId": "01126456-4c98-4245-d91f-1a80b6ffe75f"
      },
      "source": [
        "ejectionfraction<-datos$ejection_fraction\n",
        "#ejectionfraction\n",
        "#tf2(ejectionfraction,'Fracción de eyección')\n",
        "k<-1+3.32*log10(299)\n",
        "round(k)"
      ],
      "execution_count": 113,
      "outputs": [
        {
          "output_type": "display_data",
          "data": {
            "text/plain": [
              "[1] 9"
            ],
            "text/latex": "9",
            "text/markdown": "9",
            "text/html": [
              "9"
            ]
          },
          "metadata": {
            "tags": []
          }
        }
      ]
    },
    {
      "cell_type": "code",
      "metadata": {
        "id": "r0BMgRTpAxly"
      },
      "source": [
        "calW<-function(v){\n",
        "  r=max(v)-min(v)\n",
        "  k=1+3.32*log10(length(v))\n",
        "  k<-round(k)\n",
        "  w=r/k\n",
        "  w\n",
        "}"
      ],
      "execution_count": 99,
      "outputs": []
    },
    {
      "cell_type": "markdown",
      "metadata": {
        "id": "xIn_6YAFKHdD"
      },
      "source": [
        "ANCHO DE CLASES"
      ]
    },
    {
      "cell_type": "code",
      "metadata": {
        "colab": {
          "base_uri": "https://localhost:8080/",
          "height": 34
        },
        "id": "YsHoFbzXAzZS",
        "outputId": "dcb05c93-cd2e-4eee-94e4-2b8a6efefa6e"
      },
      "source": [
        "calW(ejectionfraction)\n",
        "w<-8"
      ],
      "execution_count": 114,
      "outputs": [
        {
          "output_type": "display_data",
          "data": {
            "text/plain": [
              "[1] 7.333333"
            ],
            "text/latex": "7.33333333333333",
            "text/markdown": "7.33333333333333",
            "text/html": [
              "7.33333333333333"
            ]
          },
          "metadata": {
            "tags": []
          }
        }
      ]
    },
    {
      "cell_type": "markdown",
      "metadata": {
        "id": "Kam9tS91RXwU"
      },
      "source": [
        "Tabla de frecuencia y gráfico de histograma"
      ]
    },
    {
      "cell_type": "code",
      "metadata": {
        "id": "7-1ecPsrA2-Z"
      },
      "source": [
        "tfCont<-function(v,w,nombre){\n",
        "  k=1+3.32*log10(length(v))\n",
        "  k=round(k)\n",
        "  LS<-c()\n",
        "  LI<-c()\n",
        "  LS[1]=min(v)+w\n",
        "  LI[1]=min(v)\n",
        "  for (i in 2:k){ \n",
        "    LS[i]=LS[i-1]+w\n",
        "    LI[i]=LI[i-1]+w\n",
        "  }\n",
        "  h<-hist(v,seq(min(v),max(LS),w),plot=F)\n",
        "  fi<-h$counts\n",
        "  hi<-fi/sum(fi)\n",
        "  pi<-hi*100\n",
        "  Fi<-cumsum(fi)\n",
        "  Hi<-cumsum(hi)\n",
        "  Pi<-cumsum(pi)\n",
        "  hist(v,seq(min(v),max(LS),w),freq=FALSE,col='green',plot=T,main = paste('HISTOGRAMA:',nombre))\n",
        "  lines(density(v),col=\"red\",lwd=2)\n",
        "  abline(v=mean(v),col='yellow')\n",
        "  abline(v=median(v),col='blue')\n",
        "  curve(dnorm(x,mean=mean(v),sd=sd(v)), from=800,to=1600,add=TRUE, col=\"blue\", lwd=2)\n",
        "  K<-1:k\n",
        "  atributos<-cbind(K,LI,LS,fi,hi,pi,Fi,Hi,Pi)\n",
        "  totales<-c(' ',' ','TOTAL',sum(fi),sum(hi),sum(pi),' ',' ',' ')\n",
        "  r<-rbind(atributos,totales)\n",
        "  View(r)\n",
        "}"
      ],
      "execution_count": 115,
      "outputs": []
    },
    {
      "cell_type": "code",
      "metadata": {
        "colab": {
          "base_uri": "https://localhost:8080/",
          "height": 794
        },
        "id": "LLnbvZtCA4tB",
        "outputId": "da2803f6-c1f5-4352-fbb4-6c7b0ac61c38"
      },
      "source": [
        "tfCont(ejectionfraction,8,'Fracción de eyección')"
      ],
      "execution_count": 116,
      "outputs": [
        {
          "output_type": "display_data",
          "data": {
            "text/markdown": "\nA matrix: 10 × 9 of type chr\n\n| <!--/--> | K | LI | LS | fi | hi | pi | Fi | Hi | Pi |\n|---|---|---|---|---|---|---|---|---|---|\n| <!----> | 1 | 14 | 22    | 23  | 0.0769230769230769  | 7.69230769230769  | 23  | 0.0769230769230769 | 7.69230769230769 |\n| <!----> | 2 | 22 | 30    | 70  | 0.234113712374582   | 23.4113712374582  | 93  | 0.311036789297659  | 31.1036789297659 |\n| <!----> | 3 | 30 | 38    | 89  | 0.297658862876254   | 29.7658862876254  | 182 | 0.608695652173913  | 60.8695652173913 |\n| <!----> | 4 | 38 | 46    | 57  | 0.190635451505017   | 19.0635451505017  | 239 | 0.79933110367893   | 79.933110367893  |\n| <!----> | 5 | 46 | 54    | 21  | 0.0702341137123746  | 7.02341137123746  | 260 | 0.869565217391304  | 86.9565217391304 |\n| <!----> | 6 | 54 | 62    | 36  | 0.120401337792642   | 12.0401337792642  | 296 | 0.989966555183946  | 98.9966555183947 |\n| <!----> | 7 | 62 | 70    | 2   | 0.00668896321070234 | 0.668896321070234 | 298 | 0.996655518394649  | 99.6655518394649 |\n| <!----> | 8 | 70 | 78    | 0   | 0                   | 0                 | 298 | 0.996655518394649  | 99.6655518394649 |\n| <!----> | 9 | 78 | 86    | 1   | 0.00334448160535117 | 0.334448160535117 | 299 | 1                  | 100              |\n| totales | <!----> | <!----> | TOTAL | 299 | 1                   | 100               | <!----> | <!----> | <!----> |\n\n",
            "text/latex": "A matrix: 10 × 9 of type chr\n\\begin{tabular}{r|lllllllll}\n  & K & LI & LS & fi & hi & pi & Fi & Hi & Pi\\\\\n\\hline\n\t & 1 & 14 & 22    & 23  & 0.0769230769230769  & 7.69230769230769  & 23  & 0.0769230769230769 & 7.69230769230769\\\\\n\t & 2 & 22 & 30    & 70  & 0.234113712374582   & 23.4113712374582  & 93  & 0.311036789297659  & 31.1036789297659\\\\\n\t & 3 & 30 & 38    & 89  & 0.297658862876254   & 29.7658862876254  & 182 & 0.608695652173913  & 60.8695652173913\\\\\n\t & 4 & 38 & 46    & 57  & 0.190635451505017   & 19.0635451505017  & 239 & 0.79933110367893   & 79.933110367893 \\\\\n\t & 5 & 46 & 54    & 21  & 0.0702341137123746  & 7.02341137123746  & 260 & 0.869565217391304  & 86.9565217391304\\\\\n\t & 6 & 54 & 62    & 36  & 0.120401337792642   & 12.0401337792642  & 296 & 0.989966555183946  & 98.9966555183947\\\\\n\t & 7 & 62 & 70    & 2   & 0.00668896321070234 & 0.668896321070234 & 298 & 0.996655518394649  & 99.6655518394649\\\\\n\t & 8 & 70 & 78    & 0   & 0                   & 0                 & 298 & 0.996655518394649  & 99.6655518394649\\\\\n\t & 9 & 78 & 86    & 1   & 0.00334448160535117 & 0.334448160535117 & 299 & 1                  & 100             \\\\\n\ttotales &   &    & TOTAL & 299 & 1                   & 100               &     &                    &                 \\\\\n\\end{tabular}\n",
            "text/html": [
              "<table class=\"dataframe\">\n",
              "<caption>A matrix: 10 × 9 of type chr</caption>\n",
              "<thead>\n",
              "\t<tr><th></th><th scope=col>K</th><th scope=col>LI</th><th scope=col>LS</th><th scope=col>fi</th><th scope=col>hi</th><th scope=col>pi</th><th scope=col>Fi</th><th scope=col>Hi</th><th scope=col>Pi</th></tr>\n",
              "</thead>\n",
              "<tbody>\n",
              "\t<tr><th scope=row></th><td>1</td><td>14</td><td>22   </td><td>23 </td><td>0.0769230769230769 </td><td>7.69230769230769 </td><td>23 </td><td>0.0769230769230769</td><td>7.69230769230769</td></tr>\n",
              "\t<tr><th scope=row></th><td>2</td><td>22</td><td>30   </td><td>70 </td><td>0.234113712374582  </td><td>23.4113712374582 </td><td>93 </td><td>0.311036789297659 </td><td>31.1036789297659</td></tr>\n",
              "\t<tr><th scope=row></th><td>3</td><td>30</td><td>38   </td><td>89 </td><td>0.297658862876254  </td><td>29.7658862876254 </td><td>182</td><td>0.608695652173913 </td><td>60.8695652173913</td></tr>\n",
              "\t<tr><th scope=row></th><td>4</td><td>38</td><td>46   </td><td>57 </td><td>0.190635451505017  </td><td>19.0635451505017 </td><td>239</td><td>0.79933110367893  </td><td>79.933110367893 </td></tr>\n",
              "\t<tr><th scope=row></th><td>5</td><td>46</td><td>54   </td><td>21 </td><td>0.0702341137123746 </td><td>7.02341137123746 </td><td>260</td><td>0.869565217391304 </td><td>86.9565217391304</td></tr>\n",
              "\t<tr><th scope=row></th><td>6</td><td>54</td><td>62   </td><td>36 </td><td>0.120401337792642  </td><td>12.0401337792642 </td><td>296</td><td>0.989966555183946 </td><td>98.9966555183947</td></tr>\n",
              "\t<tr><th scope=row></th><td>7</td><td>62</td><td>70   </td><td>2  </td><td>0.00668896321070234</td><td>0.668896321070234</td><td>298</td><td>0.996655518394649 </td><td>99.6655518394649</td></tr>\n",
              "\t<tr><th scope=row></th><td>8</td><td>70</td><td>78   </td><td>0  </td><td>0                  </td><td>0                </td><td>298</td><td>0.996655518394649 </td><td>99.6655518394649</td></tr>\n",
              "\t<tr><th scope=row></th><td>9</td><td>78</td><td>86   </td><td>1  </td><td>0.00334448160535117</td><td>0.334448160535117</td><td>299</td><td>1                 </td><td>100             </td></tr>\n",
              "\t<tr><th scope=row>totales</th><td> </td><td>  </td><td>TOTAL</td><td>299</td><td>1                  </td><td>100              </td><td>   </td><td>                  </td><td>                </td></tr>\n",
              "</tbody>\n",
              "</table>\n"
            ],
            "text/plain": [
              "        K LI LS    fi  hi                  pi                Fi \n",
              "        1 14 22    23  0.0769230769230769  7.69230769230769  23 \n",
              "        2 22 30    70  0.234113712374582   23.4113712374582  93 \n",
              "        3 30 38    89  0.297658862876254   29.7658862876254  182\n",
              "        4 38 46    57  0.190635451505017   19.0635451505017  239\n",
              "        5 46 54    21  0.0702341137123746  7.02341137123746  260\n",
              "        6 54 62    36  0.120401337792642   12.0401337792642  296\n",
              "        7 62 70    2   0.00668896321070234 0.668896321070234 298\n",
              "        8 70 78    0   0                   0                 298\n",
              "        9 78 86    1   0.00334448160535117 0.334448160535117 299\n",
              "totales      TOTAL 299 1                   100                  \n",
              "        Hi                 Pi              \n",
              "        0.0769230769230769 7.69230769230769\n",
              "        0.311036789297659  31.1036789297659\n",
              "        0.608695652173913  60.8695652173913\n",
              "        0.79933110367893   79.933110367893 \n",
              "        0.869565217391304  86.9565217391304\n",
              "        0.989966555183946  98.9966555183947\n",
              "        0.996655518394649  99.6655518394649\n",
              "        0.996655518394649  99.6655518394649\n",
              "        1                  100             \n",
              "totales                                    "
            ]
          },
          "metadata": {
            "tags": []
          }
        },
        {
          "output_type": "display_data",
          "data": {
            "image/png": "[encoded data removed]",
            "text/plain": [
              "Plot with title “HISTOGRAMA: Fracción de eyección”"
            ]
          },
          "metadata": {
            "tags": [],
            "image/png": {
              "width": 420,
              "height": 420
            }
          }
        }
      ]
    },
    {
      "cell_type": "markdown",
      "metadata": {
        "id": "cbYZYCaqri9q"
      },
      "source": [
        "**Análisis:** A la variable contínua analizada (fracción de eyección) se la ha organizado en 9 clases dependiendo del porcentaje de sangre que expulsa el corazón del ventrículo izquierdo. (Mientras más alto el valor, mayor porcentaje de sangre expulsa el corazón; por lo tanto, el corazón tiene un buen funcionamiento.) Los valores bajos indican una insuficiencia cardíaca. Sólo 60 de las 299 personas analizadas tienen un bajo riesgo de insificiencia cardíaca, por el contrario, la gran mayoría de los pacientes tiene un riesgo de alto a moderado de tener insuficiencia cardíaca."
      ]
    },
    {
      "cell_type": "markdown",
      "metadata": {
        "id": "vzkYsrufbmCA"
      },
      "source": [
        "![image.png](data:image/png;base64,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)"
      ]
    },
    {
      "cell_type": "markdown",
      "metadata": {
        "id": "FUxYpDAo5Q8B"
      },
      "source": [
        "MEDIA"
      ]
    },
    {
      "cell_type": "code",
      "metadata": {
        "colab": {
          "base_uri": "https://localhost:8080/",
          "height": 34
        },
        "id": "-jKiPGq37HIX",
        "outputId": "bd9c1cad-525f-4ae8-8213-3acca57eee91"
      },
      "source": [
        "mean(ejectionfraction)"
      ],
      "execution_count": 117,
      "outputs": [
        {
          "output_type": "display_data",
          "data": {
            "text/plain": [
              "[1] 38.08361"
            ],
            "text/latex": "38.0836120401338",
            "text/markdown": "38.0836120401338",
            "text/html": [
              "38.0836120401338"
            ]
          },
          "metadata": {
            "tags": []
          }
        }
      ]
    },
    {
      "cell_type": "markdown",
      "metadata": {
        "id": "hfZlANqK7Nmc"
      },
      "source": [
        "MEDIANA"
      ]
    },
    {
      "cell_type": "code",
      "metadata": {
        "colab": {
          "base_uri": "https://localhost:8080/",
          "height": 34
        },
        "id": "dgQTgMAD7RZ1",
        "outputId": "e53b9231-3887-46b5-97a4-58f526dc00ff"
      },
      "source": [
        "median(ejectionfraction)"
      ],
      "execution_count": 118,
      "outputs": [
        {
          "output_type": "display_data",
          "data": {
            "text/plain": [
              "[1] 38"
            ],
            "text/latex": "38",
            "text/markdown": "38",
            "text/html": [
              "38"
            ]
          },
          "metadata": {
            "tags": []
          }
        }
      ]
    },
    {
      "cell_type": "markdown",
      "metadata": {
        "id": "On9dQjkKBa8T"
      },
      "source": [
        "RANGO ESTADISTICO"
      ]
    },
    {
      "cell_type": "code",
      "metadata": {
        "colab": {
          "base_uri": "https://localhost:8080/",
          "height": 34
        },
        "id": "HGqr31uQBg8U",
        "outputId": "fe386241-c0ed-4898-bec0-3cb3080f6233"
      },
      "source": [
        "max(ejectionfraction)-min(ejectionfraction)"
      ],
      "execution_count": 119,
      "outputs": [
        {
          "output_type": "display_data",
          "data": {
            "text/plain": [
              "[1] 66"
            ],
            "text/latex": "66",
            "text/markdown": "66",
            "text/html": [
              "66"
            ]
          },
          "metadata": {
            "tags": []
          }
        }
      ]
    },
    {
      "cell_type": "markdown",
      "metadata": {
        "id": "2N50LpquCvm6"
      },
      "source": [
        "RANGO INTERCUANTILICO"
      ]
    },
    {
      "cell_type": "code",
      "metadata": {
        "colab": {
          "base_uri": "https://localhost:8080/",
          "height": 34
        },
        "id": "F0JJ8_cpC_Ra",
        "outputId": "811e4663-d8ba-4eae-f353-4d6d054d8b04"
      },
      "source": [
        "q1<-quantile(ejectionfraction,0.25)\n",
        "q3<-quantile(ejectionfraction,0.75)\n",
        "q3-q1"
      ],
      "execution_count": 124,
      "outputs": [
        {
          "output_type": "display_data",
          "data": {
            "text/plain": [
              "75% \n",
              " 15 "
            ],
            "text/latex": "\\textbf{75\\textbackslash{}\\%:} 15",
            "text/markdown": "**75%:** 15",
            "text/html": [
              "<strong>75%:</strong> 15"
            ]
          },
          "metadata": {
            "tags": []
          }
        }
      ]
    },
    {
      "cell_type": "markdown",
      "metadata": {
        "id": "HlRND_P8Dc8A"
      },
      "source": [
        "VARIANZA"
      ]
    },
    {
      "cell_type": "code",
      "metadata": {
        "colab": {
          "base_uri": "https://localhost:8080/",
          "height": 34
        },
        "id": "5DvsSuoEDeoC",
        "outputId": "380d00ff-b175-4bf8-c008-4b97ee30cda2"
      },
      "source": [
        "var(ejectionfraction)"
      ],
      "execution_count": 125,
      "outputs": [
        {
          "output_type": "display_data",
          "data": {
            "text/plain": [
              "[1] 140.0635"
            ],
            "text/latex": "140.063455365761",
            "text/markdown": "140.063455365761",
            "text/html": [
              "140.063455365761"
            ]
          },
          "metadata": {
            "tags": []
          }
        }
      ]
    },
    {
      "cell_type": "markdown",
      "metadata": {
        "id": "QmE4j5tYDz4C"
      },
      "source": [
        "DESVIACION ESTANDAR"
      ]
    },
    {
      "cell_type": "code",
      "metadata": {
        "colab": {
          "base_uri": "https://localhost:8080/",
          "height": 34
        },
        "id": "ZlbfFpZ-D3Ga",
        "outputId": "ce540ebb-0360-443c-ab54-de941c275f77"
      },
      "source": [
        "sd(ejectionfraction)"
      ],
      "execution_count": 126,
      "outputs": [
        {
          "output_type": "display_data",
          "data": {
            "text/plain": [
              "[1] 11.83484"
            ],
            "text/latex": "11.8348407410392",
            "text/markdown": "11.8348407410392",
            "text/html": [
              "11.8348407410392"
            ]
          },
          "metadata": {
            "tags": []
          }
        }
      ]
    },
    {
      "cell_type": "markdown",
      "metadata": {
        "id": "OiyQjuEcEC6a"
      },
      "source": [
        "COEFICIENTE DE VARIABILIDAD"
      ]
    },
    {
      "cell_type": "code",
      "metadata": {
        "colab": {
          "base_uri": "https://localhost:8080/",
          "height": 34
        },
        "id": "vVYtlFB8EHGj",
        "outputId": "eaf252e5-8d06-4c02-ddc5-983d377f7909"
      },
      "source": [
        "sd(ejectionfraction)/mean(ejectionfraction)*100"
      ],
      "execution_count": 127,
      "outputs": [
        {
          "output_type": "display_data",
          "data": {
            "text/plain": [
              "[1] 31.07594"
            ],
            "text/latex": "31.0759408234892",
            "text/markdown": "31.0759408234892",
            "text/html": [
              "31.0759408234892"
            ]
          },
          "metadata": {
            "tags": []
          }
        }
      ]
    },
    {
      "cell_type": "markdown",
      "metadata": {
        "id": "7TE_E-v8FEnu"
      },
      "source": [
        "GRAFICO DE CAJAS Y BIGOTES"
      ]
    },
    {
      "cell_type": "code",
      "metadata": {
        "colab": {
          "base_uri": "https://localhost:8080/",
          "height": 437
        },
        "id": "AHdOEd-eE9N4",
        "outputId": "d69ac38e-8be5-4d78-a8d0-e6601afb4f2f"
      },
      "source": [
        "boxplot(ejectionfraction,vertical = TRUE)"
      ],
      "execution_count": 173,
      "outputs": [
        {
          "output_type": "display_data",
          "data": {
            "image/png": "[encoded data removed]",
            "text/plain": [
              "plot without title"
            ]
          },
          "metadata": {
            "tags": [],
            "image/png": {
              "width": 420,
              "height": 420
            }
          }
        }
      ]
    },
    {
      "cell_type": "markdown",
      "metadata": {
        "id": "YZM97xjHliVb"
      },
      "source": [
        "**Análisis:** Tenemos una distribución asimétrica positiva pues la mayor dispersión se encuentra en el 50% superior. Pocas personas tienen valores de la fracción de eyección alta, la mayor parte de personas tiene valores comprendidos entre 22 y 62. Encontramos valores atípicos por fuera del límite superior lo cual podría indicar alguna patología en esas personas."
      ]
    },
    {
      "cell_type": "markdown",
      "metadata": {
        "id": "24zNoiLpJZsS"
      },
      "source": [
        "ASIMETRIA"
      ]
    },
    {
      "cell_type": "code",
      "metadata": {
        "colab": {
          "base_uri": "https://localhost:8080/",
          "height": 34
        },
        "id": "TKPBLVegJdsz",
        "outputId": "42d2e53a-1537-4a77-fcac-1ec7947993ca"
      },
      "source": [
        "3*(mean(ejectionfraction)-median(ejectionfraction))/sd(ejectionfraction)"
      ],
      "execution_count": 131,
      "outputs": [
        {
          "output_type": "display_data",
          "data": {
            "text/plain": [
              "[1] 0.02119472"
            ],
            "text/latex": "0.0211947187030177",
            "text/markdown": "0.0211947187030177",
            "text/html": [
              "0.0211947187030177"
            ]
          },
          "metadata": {
            "tags": []
          }
        }
      ]
    },
    {
      "cell_type": "markdown",
      "metadata": {
        "id": "vQJtpPeDMllF"
      },
      "source": [
        "*Tiene una distribución asimétrica, pues el valor es mayor de 0.*"
      ]
    },
    {
      "cell_type": "markdown",
      "metadata": {
        "id": "KMhWj2LnKfqJ"
      },
      "source": [
        "CURTOSIS"
      ]
    },
    {
      "cell_type": "code",
      "metadata": {
        "colab": {
          "base_uri": "https://localhost:8080/",
          "height": 34
        },
        "id": "tZO6-CWlFVFE",
        "outputId": "d45ec217-8b1b-4a6f-de78-8ee7551806d4"
      },
      "source": [
        "q1<-quantile(ejectionfraction,0.25)\n",
        "q3<-quantile(ejectionfraction,0.75)\n",
        "d1<-quantile(ejectionfraction,0.10)\n",
        "d9<-quantile(ejectionfraction,0.90)\n",
        "0.5*(q3-q1)/(d9-d1)"
      ],
      "execution_count": 134,
      "outputs": [
        {
          "output_type": "display_data",
          "data": {
            "text/plain": [
              "      75% \n",
              "0.2142857 "
            ],
            "text/latex": "\\textbf{75\\textbackslash{}\\%:} 0.214285714285714",
            "text/markdown": "**75%:** 0.214285714285714",
            "text/html": [
              "<strong>75%:</strong> 0.214285714285714"
            ]
          },
          "metadata": {
            "tags": []
          }
        }
      ]
    },
    {
      "cell_type": "markdown",
      "metadata": {
        "id": "Iu3BNpNrMu9R"
      },
      "source": [
        "*Tiene una distribución platicúrtica, el valor es menor de 0.25*"
      ]
    },
    {
      "cell_type": "markdown",
      "metadata": {
        "id": "NnWZOEVVhBOP"
      },
      "source": [
        "\n",
        "\n",
        "---\n",
        "\n"
      ]
    },
    {
      "cell_type": "markdown",
      "metadata": {
        "id": "_er9OfckhxDC"
      },
      "source": [
        "- *VARIABLE PLAQUETAS*"
      ]
    },
    {
      "cell_type": "code",
      "metadata": {
        "colab": {
          "base_uri": "https://localhost:8080/",
          "height": 34
        },
        "id": "WV9WzPfGB0Vh",
        "outputId": "ea1f4506-76a8-4aef-e6c8-6dff044f99f2"
      },
      "source": [
        "plaquetas<-datos$platelets\n",
        "#tf1(plaquetas,'Variable plaquetas')\n",
        "k<-1+3.32*log10(299)\n",
        "round(k)"
      ],
      "execution_count": 211,
      "outputs": [
        {
          "output_type": "display_data",
          "data": {
            "text/plain": [
              "[1] 9"
            ],
            "text/latex": "9",
            "text/markdown": "9",
            "text/html": [
              "9"
            ]
          },
          "metadata": {
            "tags": []
          }
        }
      ]
    },
    {
      "cell_type": "code",
      "metadata": {
        "id": "JRc4D-nkB4v8"
      },
      "source": [
        "calW<-function(v){\n",
        "  r=max(v)-min(v)\n",
        "  k=1+3.32*log10(length(v))\n",
        "  k<-round(k)\n",
        "  w=r/k\n",
        "  w\n",
        "}"
      ],
      "execution_count": 212,
      "outputs": []
    },
    {
      "cell_type": "markdown",
      "metadata": {
        "id": "jYCQl4XJM7oh"
      },
      "source": [
        "ANCHO DE CLASES"
      ]
    },
    {
      "cell_type": "code",
      "metadata": {
        "colab": {
          "base_uri": "https://localhost:8080/",
          "height": 34
        },
        "id": "bFPzT7zOB6fs",
        "outputId": "a738e937-dd9a-4e44-b94e-28c0f7671373"
      },
      "source": [
        "calW(plaquetas)\n",
        "w<-91656"
      ],
      "execution_count": 220,
      "outputs": [
        {
          "output_type": "display_data",
          "data": {
            "text/plain": [
              "[1] 91655.56"
            ],
            "text/latex": "91655.5555555556",
            "text/markdown": "91655.5555555556",
            "text/html": [
              "91655.5555555556"
            ]
          },
          "metadata": {
            "tags": []
          }
        }
      ]
    },
    {
      "cell_type": "markdown",
      "metadata": {
        "id": "b2LbYacQhap7"
      },
      "source": [
        "TABLA DE FRECUENCIA E HISTOGRAMA"
      ]
    },
    {
      "cell_type": "code",
      "metadata": {
        "id": "nu_PJO6ZB8Pd"
      },
      "source": [
        "tfCont<-function(v,w,nombre){\n",
        "  k=1+3.32*log10(length(v))\n",
        "  k=round(k)\n",
        "  LS<-c()\n",
        "  LI<-c()\n",
        "  LS[1]=min(v)+w\n",
        "  LI[1]=min(v)\n",
        "  for (i in 2:k){ \n",
        "    LS[i]=LS[i-1]+w\n",
        "    LI[i]=LI[i-1]+w\n",
        "  }\n",
        "  h<-hist(v,seq(min(v),max(LS),w),plot=F)\n",
        "  fi<-h$counts\n",
        "  hi<-fi/sum(fi)\n",
        "  pi<-hi*100\n",
        "  Fi<-cumsum(fi)\n",
        "  Hi<-cumsum(hi)\n",
        "  Pi<-cumsum(pi)\n",
        "  hist(v,seq(min(v),max(LS),w),freq=FALSE,col='green',plot=T,main = paste('Histograma:',nombre))\n",
        "  lines(density(v),col=\"red\",lwd=2)\n",
        "  abline(v=mean(v),col='red')\n",
        "  abline(v=median(v),col='blue')\n",
        "  curve(dnorm(x,mean=mean(v),sd=sd(v)), from=800,to=1600,add=TRUE, col=\"blue\", lwd=2)\n",
        "  K<-1:k\n",
        "  atributos<-cbind(K,LI,LS,fi,hi,pi,Fi,Hi,Pi)\n",
        "  totales<-c(' ',' ','TOTAL',sum(fi),sum(hi),sum(pi),' ',' ',' ')\n",
        "  r<-rbind(atributos,totales)\n",
        "  View(r)\n",
        "}"
      ],
      "execution_count": 221,
      "outputs": []
    },
    {
      "cell_type": "code",
      "metadata": {
        "colab": {
          "base_uri": "https://localhost:8080/",
          "height": 794
        },
        "id": "SYZ9sFZ2B-LB",
        "outputId": "3fd6a771-5504-41b2-ddff-e509e7cf7f38"
      },
      "source": [
        "tfCont(plaquetas,91656,'Plaquetas')"
      ],
      "execution_count": 222,
      "outputs": [
        {
          "output_type": "display_data",
          "data": {
            "text/markdown": "\nA matrix: 10 × 9 of type chr\n\n| <!--/--> | K | LI | LS | fi | hi | pi | Fi | Hi | Pi |\n|---|---|---|---|---|---|---|---|---|---|\n| <!----> | 1 | 25100  | 116756 | 9   | 0.0301003344481605  | 3.01003344481605  | 9   | 0.0301003344481605 | 3.01003344481605 |\n| <!----> | 2 | 116756 | 208412 | 61  | 0.204013377926421   | 20.4013377926421  | 70  | 0.234113712374582  | 23.4113712374582 |\n| <!----> | 3 | 208412 | 300068 | 149 | 0.498327759197324   | 49.8327759197324  | 219 | 0.732441471571906  | 73.2441471571906 |\n| <!----> | 4 | 300068 | 391724 | 58  | 0.193979933110368   | 19.3979933110368  | 277 | 0.926421404682274  | 92.6421404682274 |\n| <!----> | 5 | 391724 | 483380 | 14  | 0.0468227424749164  | 4.68227424749164  | 291 | 0.973244147157191  | 97.3244147157191 |\n| <!----> | 6 | 483380 | 575036 | 5   | 0.0167224080267559  | 1.67224080267559  | 296 | 0.989966555183946  | 98.9966555183946 |\n| <!----> | 7 | 575036 | 666692 | 1   | 0.00334448160535117 | 0.334448160535117 | 297 | 0.993311036789298  | 99.3311036789298 |\n| <!----> | 8 | 666692 | 758348 | 1   | 0.00334448160535117 | 0.334448160535117 | 298 | 0.996655518394649  | 99.6655518394649 |\n| <!----> | 9 | 758348 | 850004 | 1   | 0.00334448160535117 | 0.334448160535117 | 299 | 1                  | 100              |\n| totales | <!----> | <!----> | TOTAL  | 299 | 1                   | 100               | <!----> | <!----> | <!----> |\n\n",
            "text/latex": "A matrix: 10 × 9 of type chr\n\\begin{tabular}{r|lllllllll}\n  & K & LI & LS & fi & hi & pi & Fi & Hi & Pi\\\\\n\\hline\n\t & 1 & 25100  & 116756 & 9   & 0.0301003344481605  & 3.01003344481605  & 9   & 0.0301003344481605 & 3.01003344481605\\\\\n\t & 2 & 116756 & 208412 & 61  & 0.204013377926421   & 20.4013377926421  & 70  & 0.234113712374582  & 23.4113712374582\\\\\n\t & 3 & 208412 & 300068 & 149 & 0.498327759197324   & 49.8327759197324  & 219 & 0.732441471571906  & 73.2441471571906\\\\\n\t & 4 & 300068 & 391724 & 58  & 0.193979933110368   & 19.3979933110368  & 277 & 0.926421404682274  & 92.6421404682274\\\\\n\t & 5 & 391724 & 483380 & 14  & 0.0468227424749164  & 4.68227424749164  & 291 & 0.973244147157191  & 97.3244147157191\\\\\n\t & 6 & 483380 & 575036 & 5   & 0.0167224080267559  & 1.67224080267559  & 296 & 0.989966555183946  & 98.9966555183946\\\\\n\t & 7 & 575036 & 666692 & 1   & 0.00334448160535117 & 0.334448160535117 & 297 & 0.993311036789298  & 99.3311036789298\\\\\n\t & 8 & 666692 & 758348 & 1   & 0.00334448160535117 & 0.334448160535117 & 298 & 0.996655518394649  & 99.6655518394649\\\\\n\t & 9 & 758348 & 850004 & 1   & 0.00334448160535117 & 0.334448160535117 & 299 & 1                  & 100             \\\\\n\ttotales &   &        & TOTAL  & 299 & 1                   & 100               &     &                    &                 \\\\\n\\end{tabular}\n",
            "text/html": [
              "<table class=\"dataframe\">\n",
              "<caption>A matrix: 10 × 9 of type chr</caption>\n",
              "<thead>\n",
              "\t<tr><th></th><th scope=col>K</th><th scope=col>LI</th><th scope=col>LS</th><th scope=col>fi</th><th scope=col>hi</th><th scope=col>pi</th><th scope=col>Fi</th><th scope=col>Hi</th><th scope=col>Pi</th></tr>\n",
              "</thead>\n",
              "<tbody>\n",
              "\t<tr><th scope=row></th><td>1</td><td>25100 </td><td>116756</td><td>9  </td><td>0.0301003344481605 </td><td>3.01003344481605 </td><td>9  </td><td>0.0301003344481605</td><td>3.01003344481605</td></tr>\n",
              "\t<tr><th scope=row></th><td>2</td><td>116756</td><td>208412</td><td>61 </td><td>0.204013377926421  </td><td>20.4013377926421 </td><td>70 </td><td>0.234113712374582 </td><td>23.4113712374582</td></tr>\n",
              "\t<tr><th scope=row></th><td>3</td><td>208412</td><td>300068</td><td>149</td><td>0.498327759197324  </td><td>49.8327759197324 </td><td>219</td><td>0.732441471571906 </td><td>73.2441471571906</td></tr>\n",
              "\t<tr><th scope=row></th><td>4</td><td>300068</td><td>391724</td><td>58 </td><td>0.193979933110368  </td><td>19.3979933110368 </td><td>277</td><td>0.926421404682274 </td><td>92.6421404682274</td></tr>\n",
              "\t<tr><th scope=row></th><td>5</td><td>391724</td><td>483380</td><td>14 </td><td>0.0468227424749164 </td><td>4.68227424749164 </td><td>291</td><td>0.973244147157191 </td><td>97.3244147157191</td></tr>\n",
              "\t<tr><th scope=row></th><td>6</td><td>483380</td><td>575036</td><td>5  </td><td>0.0167224080267559 </td><td>1.67224080267559 </td><td>296</td><td>0.989966555183946 </td><td>98.9966555183946</td></tr>\n",
              "\t<tr><th scope=row></th><td>7</td><td>575036</td><td>666692</td><td>1  </td><td>0.00334448160535117</td><td>0.334448160535117</td><td>297</td><td>0.993311036789298 </td><td>99.3311036789298</td></tr>\n",
              "\t<tr><th scope=row></th><td>8</td><td>666692</td><td>758348</td><td>1  </td><td>0.00334448160535117</td><td>0.334448160535117</td><td>298</td><td>0.996655518394649 </td><td>99.6655518394649</td></tr>\n",
              "\t<tr><th scope=row></th><td>9</td><td>758348</td><td>850004</td><td>1  </td><td>0.00334448160535117</td><td>0.334448160535117</td><td>299</td><td>1                 </td><td>100             </td></tr>\n",
              "\t<tr><th scope=row>totales</th><td> </td><td>      </td><td>TOTAL </td><td>299</td><td>1                  </td><td>100              </td><td>   </td><td>                  </td><td>                </td></tr>\n",
              "</tbody>\n",
              "</table>\n"
            ],
            "text/plain": [
              "        K LI     LS     fi  hi                  pi                Fi \n",
              "        1 25100  116756 9   0.0301003344481605  3.01003344481605  9  \n",
              "        2 116756 208412 61  0.204013377926421   20.4013377926421  70 \n",
              "        3 208412 300068 149 0.498327759197324   49.8327759197324  219\n",
              "        4 300068 391724 58  0.193979933110368   19.3979933110368  277\n",
              "        5 391724 483380 14  0.0468227424749164  4.68227424749164  291\n",
              "        6 483380 575036 5   0.0167224080267559  1.67224080267559  296\n",
              "        7 575036 666692 1   0.00334448160535117 0.334448160535117 297\n",
              "        8 666692 758348 1   0.00334448160535117 0.334448160535117 298\n",
              "        9 758348 850004 1   0.00334448160535117 0.334448160535117 299\n",
              "totales          TOTAL  299 1                   100                  \n",
              "        Hi                 Pi              \n",
              "        0.0301003344481605 3.01003344481605\n",
              "        0.234113712374582  23.4113712374582\n",
              "        0.732441471571906  73.2441471571906\n",
              "        0.926421404682274  92.6421404682274\n",
              "        0.973244147157191  97.3244147157191\n",
              "        0.989966555183946  98.9966555183946\n",
              "        0.993311036789298  99.3311036789298\n",
              "        0.996655518394649  99.6655518394649\n",
              "        1                  100             \n",
              "totales                                    "
            ]
          },
          "metadata": {
            "tags": []
          }
        },
        {
          "output_type": "display_data",
          "data": {
            "image/png": "[encoded data removed]",
            "text/plain": [
              "Plot with title “Histograma: Plaquetas”"
            ]
          },
          "metadata": {
            "tags": [],
            "image/png": {
              "width": 420,
              "height": 420
            }
          }
        }
      ]
    },
    {
      "cell_type": "markdown",
      "metadata": {
        "id": "KgEG0iCW02Iy"
      },
      "source": [
        "**Análisis:** A la variable contínua analizada (plaquetas) se la ha organizado en 9 clases dependiendo de la cantidad de plaquetas presentes en sangre. El 50% de personas tienen valores comprendidos entre 208412 a 300068 de plaquetas. Sólo 3 personas tienen valores superiores a 575036"
      ]
    },
    {
      "cell_type": "markdown",
      "metadata": {
        "id": "NVeapmhejsn2"
      },
      "source": [
        "MEDIA"
      ]
    },
    {
      "cell_type": "code",
      "metadata": {
        "colab": {
          "base_uri": "https://localhost:8080/",
          "height": 34
        },
        "id": "12xbzrYwkE6b",
        "outputId": "a0c06535-22b6-41d7-8581-8367290d362f"
      },
      "source": [
        "mean(plaquetas)"
      ],
      "execution_count": 223,
      "outputs": [
        {
          "output_type": "display_data",
          "data": {
            "text/plain": [
              "[1] 263358"
            ],
            "text/latex": "263358.029264214",
            "text/markdown": "263358.029264214",
            "text/html": [
              "263358.029264214"
            ]
          },
          "metadata": {
            "tags": []
          }
        }
      ]
    },
    {
      "cell_type": "markdown",
      "metadata": {
        "id": "C0NqXb5gjue-"
      },
      "source": [
        "MEDIANA"
      ]
    },
    {
      "cell_type": "code",
      "metadata": {
        "colab": {
          "base_uri": "https://localhost:8080/",
          "height": 34
        },
        "id": "I8EvGzDAkJye",
        "outputId": "65eaf617-1c13-4238-f49d-6cc8a8a78967"
      },
      "source": [
        "median(plaquetas)"
      ],
      "execution_count": 224,
      "outputs": [
        {
          "output_type": "display_data",
          "data": {
            "text/plain": [
              "[1] 262000"
            ],
            "text/latex": "262000",
            "text/markdown": "262000",
            "text/html": [
              "262000"
            ]
          },
          "metadata": {
            "tags": []
          }
        }
      ]
    },
    {
      "cell_type": "markdown",
      "metadata": {
        "id": "dGRB2dAOjvYG"
      },
      "source": [
        "RANGO ESTADISTICO"
      ]
    },
    {
      "cell_type": "code",
      "metadata": {
        "colab": {
          "base_uri": "https://localhost:8080/",
          "height": 34
        },
        "id": "5FnMbeu2kSJX",
        "outputId": "fa917df6-df4c-4a56-838f-2599384d35e7"
      },
      "source": [
        "max(plaquetas)-min(plaquetas)"
      ],
      "execution_count": 225,
      "outputs": [
        {
          "output_type": "display_data",
          "data": {
            "text/plain": [
              "[1] 824900"
            ],
            "text/latex": "824900",
            "text/markdown": "824900",
            "text/html": [
              "824900"
            ]
          },
          "metadata": {
            "tags": []
          }
        }
      ]
    },
    {
      "cell_type": "markdown",
      "metadata": {
        "id": "343yEklnjxTj"
      },
      "source": [
        "RANGO INTERCUANTILICO"
      ]
    },
    {
      "cell_type": "code",
      "metadata": {
        "colab": {
          "base_uri": "https://localhost:8080/",
          "height": 34
        },
        "id": "LM6LRBjukXAX",
        "outputId": "0ed1d62c-e030-4eb4-9b41-09ab54308e61"
      },
      "source": [
        "q1<-quantile(plaquetas,0.25)\n",
        "q3<-quantile(plaquetas,0.75)\n",
        "q3-q1"
      ],
      "execution_count": 226,
      "outputs": [
        {
          "output_type": "display_data",
          "data": {
            "text/plain": [
              "  75% \n",
              "91000 "
            ],
            "text/latex": "\\textbf{75\\textbackslash{}\\%:} 91000",
            "text/markdown": "**75%:** 91000",
            "text/html": [
              "<strong>75%:</strong> 91000"
            ]
          },
          "metadata": {
            "tags": []
          }
        }
      ]
    },
    {
      "cell_type": "markdown",
      "metadata": {
        "id": "vmArUqZMj0z3"
      },
      "source": [
        "VARIANZA"
      ]
    },
    {
      "cell_type": "code",
      "metadata": {
        "colab": {
          "base_uri": "https://localhost:8080/",
          "height": 34
        },
        "id": "xgyCpjiqka65",
        "outputId": "ac80fc88-ae87-46db-a9ca-a98f242163e1"
      },
      "source": [
        "var(plaquetas)"
      ],
      "execution_count": 227,
      "outputs": [
        {
          "output_type": "display_data",
          "data": {
            "text/plain": [
              "[1] 9565668749"
            ],
            "text/latex": "9565668749.44888",
            "text/markdown": "9565668749.44888",
            "text/html": [
              "9565668749.44888"
            ]
          },
          "metadata": {
            "tags": []
          }
        }
      ]
    },
    {
      "cell_type": "markdown",
      "metadata": {
        "id": "bi3Jr0Gdj2pl"
      },
      "source": [
        "DESVIACION ESTANDAR"
      ]
    },
    {
      "cell_type": "code",
      "metadata": {
        "colab": {
          "base_uri": "https://localhost:8080/",
          "height": 34
        },
        "id": "_GbyvLW-kcsV",
        "outputId": "75127e71-7ffd-41e4-a5f2-55ccce3836fa"
      },
      "source": [
        "sd(plaquetas)"
      ],
      "execution_count": 228,
      "outputs": [
        {
          "output_type": "display_data",
          "data": {
            "text/plain": [
              "[1] 97804.24"
            ],
            "text/latex": "97804.2368685983",
            "text/markdown": "97804.2368685983",
            "text/html": [
              "97804.2368685983"
            ]
          },
          "metadata": {
            "tags": []
          }
        }
      ]
    },
    {
      "cell_type": "markdown",
      "metadata": {
        "id": "rr-jA3L3j6-e"
      },
      "source": [
        "COEFICIENTE DE VARIABILIDAD"
      ]
    },
    {
      "cell_type": "code",
      "metadata": {
        "colab": {
          "base_uri": "https://localhost:8080/",
          "height": 34
        },
        "id": "_MiiOd7qkh7m",
        "outputId": "1b0c920b-228e-422e-9050-e91ad4f4f62e"
      },
      "source": [
        "sd(plaquetas)/mean(plaquetas)*100"
      ],
      "execution_count": 229,
      "outputs": [
        {
          "output_type": "display_data",
          "data": {
            "text/plain": [
              "[1] 37.13737"
            ],
            "text/latex": "37.1373666266602",
            "text/markdown": "37.1373666266602",
            "text/html": [
              "37.1373666266602"
            ]
          },
          "metadata": {
            "tags": []
          }
        }
      ]
    },
    {
      "cell_type": "markdown",
      "metadata": {
        "id": "V6u7eLetj959"
      },
      "source": [
        "GRAFICO DE CAJAS Y BIGOTES"
      ]
    },
    {
      "cell_type": "code",
      "metadata": {
        "colab": {
          "base_uri": "https://localhost:8080/",
          "height": 437
        },
        "id": "ipTSF-1Fkmu9",
        "outputId": "2ab85734-5661-4cbc-b3f3-0a61b9d1b6f8"
      },
      "source": [
        "boxplot(plaquetas,vertical = TRUE)"
      ],
      "execution_count": 230,
      "outputs": [
        {
          "output_type": "display_data",
          "data": {
            "image/png": "[encoded data removed]",
            "text/plain": [
              "plot without title"
            ]
          },
          "metadata": {
            "tags": [],
            "image/png": {
              "width": 420,
              "height": 420
            }
          }
        }
      ]
    },
    {
      "cell_type": "markdown",
      "metadata": {
        "id": "ztbRBtawlBPo"
      },
      "source": [
        "**Análisis:** Tenemos una distribución asimétrica positiva pues la mayor dispersión se encuentra en el 50% superior. Pocas personas tienen valores elevados de plaquetas, la mayor parte de personas tiene valores comprendidos entre 208412 y 300068. Encontramos valores atípicos por fuera del límite superior lo cual podría indicar alguna otra patología en esas personas."
      ]
    },
    {
      "cell_type": "markdown",
      "metadata": {
        "id": "BGQiVE4ekA8d"
      },
      "source": [
        "ASIMETRIA"
      ]
    },
    {
      "cell_type": "code",
      "metadata": {
        "colab": {
          "base_uri": "https://localhost:8080/",
          "height": 34
        },
        "id": "JgVPAQ84k4A9",
        "outputId": "3626329d-5a67-470c-8cc7-f61bd7bf3c4c"
      },
      "source": [
        "3*(mean(plaquetas)-median(plaquetas))/sd(plaquetas)"
      ],
      "execution_count": 231,
      "outputs": [
        {
          "output_type": "display_data",
          "data": {
            "text/plain": [
              "[1] 0.04165553"
            ],
            "text/latex": "0.0416555348017871",
            "text/markdown": "0.0416555348017871",
            "text/html": [
              "0.0416555348017871"
            ]
          },
          "metadata": {
            "tags": []
          }
        }
      ]
    },
    {
      "cell_type": "markdown",
      "metadata": {
        "id": "lPNbiqIdO5ZR"
      },
      "source": [
        "*Tiene una distribución asimétrica, pues el valor es mayor de 0.*"
      ]
    },
    {
      "cell_type": "markdown",
      "metadata": {
        "id": "rxW8bBAhkC2N"
      },
      "source": [
        "CURTOSIS"
      ]
    },
    {
      "cell_type": "code",
      "metadata": {
        "colab": {
          "base_uri": "https://localhost:8080/",
          "height": 34
        },
        "id": "cVuSlWYmK7_9",
        "outputId": "2907db66-4f60-424f-dc5c-a8dbcce4948b"
      },
      "source": [
        "q1<-quantile(plaquetas,0.25)\n",
        "q3<-quantile(plaquetas,0.75)\n",
        "d1<-quantile(plaquetas,0.10)\n",
        "d9<-quantile(plaquetas,0.90)\n",
        "0.5*(q3-q1)/(d9-d1)"
      ],
      "execution_count": 232,
      "outputs": [
        {
          "output_type": "display_data",
          "data": {
            "text/plain": [
              "      75% \n",
              "0.2053249 "
            ],
            "text/latex": "\\textbf{75\\textbackslash{}\\%:} 0.205324909747292",
            "text/markdown": "**75%:** 0.205324909747292",
            "text/html": [
              "<strong>75%:</strong> 0.205324909747292"
            ]
          },
          "metadata": {
            "tags": []
          }
        }
      ]
    },
    {
      "cell_type": "markdown",
      "metadata": {
        "id": "bHNd-sgIO64b"
      },
      "source": [
        "*Tiene una distribución platicúrtica, el valor es menor de 0.25*"
      ]
    },
    {
      "cell_type": "markdown",
      "metadata": {
        "id": "rh55huoNMNCB"
      },
      "source": [
        "\n",
        "\n",
        "---\n",
        "\n"
      ]
    },
    {
      "cell_type": "markdown",
      "metadata": {
        "id": "Oj9ZQdgdl52G"
      },
      "source": [
        "- *VARIABLE CREATININA SERICA*"
      ]
    },
    {
      "cell_type": "code",
      "metadata": {
        "colab": {
          "base_uri": "https://localhost:8080/",
          "height": 34
        },
        "id": "DvXZb1v_BF4Q",
        "outputId": "fdf9da07-e707-48af-befb-9cedf35fe5c2"
      },
      "source": [
        "creatininaserica<-datos$serum_creatinine\n",
        "#tf1(creatininaserica,'Variable creatininaserica')\n",
        "k<-1+3.32*log10(299)\n",
        "round(k)"
      ],
      "execution_count": 240,
      "outputs": [
        {
          "output_type": "display_data",
          "data": {
            "text/plain": [
              "[1] 9"
            ],
            "text/latex": "9",
            "text/markdown": "9",
            "text/html": [
              "9"
            ]
          },
          "metadata": {
            "tags": []
          }
        }
      ]
    },
    {
      "cell_type": "code",
      "metadata": {
        "id": "nml28E68BHYU"
      },
      "source": [
        "calW<-function(v){\n",
        "  r=max(v)-min(v)\n",
        "  k=1+3.32*log10(length(v))\n",
        "  k<-round(k)\n",
        "  w=r/k\n",
        "  w\n",
        "}"
      ],
      "execution_count": 241,
      "outputs": []
    },
    {
      "cell_type": "markdown",
      "metadata": {
        "id": "tZQ97qi-PLGG"
      },
      "source": [
        "ANCHO DE CLASES"
      ]
    },
    {
      "cell_type": "code",
      "metadata": {
        "colab": {
          "base_uri": "https://localhost:8080/",
          "height": 34
        },
        "id": "HxesWrb3BJER",
        "outputId": "5025b368-7506-4b6a-9584-d4f51036eb39"
      },
      "source": [
        "calW(creatininaserica)\n",
        "w<-1"
      ],
      "execution_count": 242,
      "outputs": [
        {
          "output_type": "display_data",
          "data": {
            "text/plain": [
              "[1] 0.9888889"
            ],
            "text/latex": "0.988888888888889",
            "text/markdown": "0.988888888888889",
            "text/html": [
              "0.988888888888889"
            ]
          },
          "metadata": {
            "tags": []
          }
        }
      ]
    },
    {
      "cell_type": "markdown",
      "metadata": {
        "id": "WkqNc4gNmYpm"
      },
      "source": [
        "TABLA DE FRECUENCIA E HISTOGRAMA"
      ]
    },
    {
      "cell_type": "code",
      "metadata": {
        "id": "5krD8YxbBKLg"
      },
      "source": [
        "tfCont<-function(v,w,nombre){\n",
        "  k=1+3.32*log10(length(v))\n",
        "  k=round(k)\n",
        "  LS<-c()\n",
        "  LI<-c()\n",
        "  LS[1]=min(v)+w\n",
        "  LI[1]=min(v)\n",
        "  for (i in 2:k){ \n",
        "    LS[i]=LS[i-1]+w\n",
        "    LI[i]=LI[i-1]+w\n",
        "  }\n",
        "  h<-hist(v,seq(min(v),max(LS),w),plot=F)\n",
        "  fi<-h$counts\n",
        "  hi<-fi/sum(fi)\n",
        "  pi<-hi*100\n",
        "  Fi<-cumsum(fi)\n",
        "  Hi<-cumsum(hi)\n",
        "  Pi<-cumsum(pi)\n",
        "  hist(v,seq(min(v),max(LS),w),freq=FALSE,col='green',plot=T,main = paste('Histograma:',nombre))\n",
        "  lines(density(v),col=\"red\",lwd=2)\n",
        "  abline(v=mean(v),col='red')\n",
        "  abline(v=median(v),col='blue')\n",
        "  curve(dnorm(x,mean=mean(v),sd=sd(v)), from=800,to=1600,add=TRUE, col=\"blue\", lwd=2)\n",
        "  K<-1:k\n",
        "  atributos<-cbind(K,LI,LS,fi,hi,pi,Fi,Hi,Pi)\n",
        "  totales<-c(' ',' ','TOTAL',sum(fi),sum(hi),sum(pi),' ',' ',' ')\n",
        "  r<-rbind(atributos,totales)\n",
        "  View(r)\n",
        "}"
      ],
      "execution_count": 243,
      "outputs": []
    },
    {
      "cell_type": "code",
      "metadata": {
        "colab": {
          "base_uri": "https://localhost:8080/",
          "height": 794
        },
        "id": "8iX9N8EpBMtn",
        "outputId": "721f750e-19ba-4795-838e-e148d3fee1dc"
      },
      "source": [
        "tfCont(creatininaserica,1,'Creatinina sérica')"
      ],
      "execution_count": 244,
      "outputs": [
        {
          "output_type": "display_data",
          "data": {
            "text/markdown": "\nA matrix: 10 × 9 of type chr\n\n| <!--/--> | K | LI | LS | fi | hi | pi | Fi | Hi | Pi |\n|---|---|---|---|---|---|---|---|---|---|\n| <!----> | 1 | 0.5 | 1.5   | 232 | 0.775919732441472   | 77.5919732441472  | 232 | 0.775919732441472 | 77.5919732441472 |\n| <!----> | 2 | 1.5 | 2.5   | 47  | 0.157190635451505   | 15.7190635451505  | 279 | 0.933110367892977 | 93.3110367892977 |\n| <!----> | 3 | 2.5 | 3.5   | 10  | 0.0334448160535117  | 3.34448160535117  | 289 | 0.966555183946488 | 96.6555183946488 |\n| <!----> | 4 | 3.5 | 4.5   | 4   | 0.0133779264214047  | 1.33779264214047  | 293 | 0.979933110367893 | 97.9933110367893 |\n| <!----> | 5 | 4.5 | 5.5   | 1   | 0.00334448160535117 | 0.334448160535117 | 294 | 0.983277591973244 | 98.3277591973244 |\n| <!----> | 6 | 5.5 | 6.5   | 2   | 0.00668896321070234 | 0.668896321070234 | 296 | 0.989966555183946 | 98.9966555183946 |\n| <!----> | 7 | 6.5 | 7.5   | 1   | 0.00334448160535117 | 0.334448160535117 | 297 | 0.993311036789298 | 99.3311036789298 |\n| <!----> | 8 | 7.5 | 8.5   | 0   | 0                   | 0                 | 297 | 0.993311036789298 | 99.3311036789298 |\n| <!----> | 9 | 8.5 | 9.5   | 2   | 0.00668896321070234 | 0.668896321070234 | 299 | 1                 | 100              |\n| totales | <!----> | <!----> | TOTAL | 299 | 1                   | 100               | <!----> | <!----> | <!----> |\n\n",
            "text/latex": "A matrix: 10 × 9 of type chr\n\\begin{tabular}{r|lllllllll}\n  & K & LI & LS & fi & hi & pi & Fi & Hi & Pi\\\\\n\\hline\n\t & 1 & 0.5 & 1.5   & 232 & 0.775919732441472   & 77.5919732441472  & 232 & 0.775919732441472 & 77.5919732441472\\\\\n\t & 2 & 1.5 & 2.5   & 47  & 0.157190635451505   & 15.7190635451505  & 279 & 0.933110367892977 & 93.3110367892977\\\\\n\t & 3 & 2.5 & 3.5   & 10  & 0.0334448160535117  & 3.34448160535117  & 289 & 0.966555183946488 & 96.6555183946488\\\\\n\t & 4 & 3.5 & 4.5   & 4   & 0.0133779264214047  & 1.33779264214047  & 293 & 0.979933110367893 & 97.9933110367893\\\\\n\t & 5 & 4.5 & 5.5   & 1   & 0.00334448160535117 & 0.334448160535117 & 294 & 0.983277591973244 & 98.3277591973244\\\\\n\t & 6 & 5.5 & 6.5   & 2   & 0.00668896321070234 & 0.668896321070234 & 296 & 0.989966555183946 & 98.9966555183946\\\\\n\t & 7 & 6.5 & 7.5   & 1   & 0.00334448160535117 & 0.334448160535117 & 297 & 0.993311036789298 & 99.3311036789298\\\\\n\t & 8 & 7.5 & 8.5   & 0   & 0                   & 0                 & 297 & 0.993311036789298 & 99.3311036789298\\\\\n\t & 9 & 8.5 & 9.5   & 2   & 0.00668896321070234 & 0.668896321070234 & 299 & 1                 & 100             \\\\\n\ttotales &   &     & TOTAL & 299 & 1                   & 100               &     &                   &                 \\\\\n\\end{tabular}\n",
            "text/html": [
              "<table class=\"dataframe\">\n",
              "<caption>A matrix: 10 × 9 of type chr</caption>\n",
              "<thead>\n",
              "\t<tr><th></th><th scope=col>K</th><th scope=col>LI</th><th scope=col>LS</th><th scope=col>fi</th><th scope=col>hi</th><th scope=col>pi</th><th scope=col>Fi</th><th scope=col>Hi</th><th scope=col>Pi</th></tr>\n",
              "</thead>\n",
              "<tbody>\n",
              "\t<tr><th scope=row></th><td>1</td><td>0.5</td><td>1.5  </td><td>232</td><td>0.775919732441472  </td><td>77.5919732441472 </td><td>232</td><td>0.775919732441472</td><td>77.5919732441472</td></tr>\n",
              "\t<tr><th scope=row></th><td>2</td><td>1.5</td><td>2.5  </td><td>47 </td><td>0.157190635451505  </td><td>15.7190635451505 </td><td>279</td><td>0.933110367892977</td><td>93.3110367892977</td></tr>\n",
              "\t<tr><th scope=row></th><td>3</td><td>2.5</td><td>3.5  </td><td>10 </td><td>0.0334448160535117 </td><td>3.34448160535117 </td><td>289</td><td>0.966555183946488</td><td>96.6555183946488</td></tr>\n",
              "\t<tr><th scope=row></th><td>4</td><td>3.5</td><td>4.5  </td><td>4  </td><td>0.0133779264214047 </td><td>1.33779264214047 </td><td>293</td><td>0.979933110367893</td><td>97.9933110367893</td></tr>\n",
              "\t<tr><th scope=row></th><td>5</td><td>4.5</td><td>5.5  </td><td>1  </td><td>0.00334448160535117</td><td>0.334448160535117</td><td>294</td><td>0.983277591973244</td><td>98.3277591973244</td></tr>\n",
              "\t<tr><th scope=row></th><td>6</td><td>5.5</td><td>6.5  </td><td>2  </td><td>0.00668896321070234</td><td>0.668896321070234</td><td>296</td><td>0.989966555183946</td><td>98.9966555183946</td></tr>\n",
              "\t<tr><th scope=row></th><td>7</td><td>6.5</td><td>7.5  </td><td>1  </td><td>0.00334448160535117</td><td>0.334448160535117</td><td>297</td><td>0.993311036789298</td><td>99.3311036789298</td></tr>\n",
              "\t<tr><th scope=row></th><td>8</td><td>7.5</td><td>8.5  </td><td>0  </td><td>0                  </td><td>0                </td><td>297</td><td>0.993311036789298</td><td>99.3311036789298</td></tr>\n",
              "\t<tr><th scope=row></th><td>9</td><td>8.5</td><td>9.5  </td><td>2  </td><td>0.00668896321070234</td><td>0.668896321070234</td><td>299</td><td>1                </td><td>100             </td></tr>\n",
              "\t<tr><th scope=row>totales</th><td> </td><td>   </td><td>TOTAL</td><td>299</td><td>1                  </td><td>100              </td><td>   </td><td>                 </td><td>                </td></tr>\n",
              "</tbody>\n",
              "</table>\n"
            ],
            "text/plain": [
              "        K LI  LS    fi  hi                  pi                Fi \n",
              "        1 0.5 1.5   232 0.775919732441472   77.5919732441472  232\n",
              "        2 1.5 2.5   47  0.157190635451505   15.7190635451505  279\n",
              "        3 2.5 3.5   10  0.0334448160535117  3.34448160535117  289\n",
              "        4 3.5 4.5   4   0.0133779264214047  1.33779264214047  293\n",
              "        5 4.5 5.5   1   0.00334448160535117 0.334448160535117 294\n",
              "        6 5.5 6.5   2   0.00668896321070234 0.668896321070234 296\n",
              "        7 6.5 7.5   1   0.00334448160535117 0.334448160535117 297\n",
              "        8 7.5 8.5   0   0                   0                 297\n",
              "        9 8.5 9.5   2   0.00668896321070234 0.668896321070234 299\n",
              "totales       TOTAL 299 1                   100                  \n",
              "        Hi                Pi              \n",
              "        0.775919732441472 77.5919732441472\n",
              "        0.933110367892977 93.3110367892977\n",
              "        0.966555183946488 96.6555183946488\n",
              "        0.979933110367893 97.9933110367893\n",
              "        0.983277591973244 98.3277591973244\n",
              "        0.989966555183946 98.9966555183946\n",
              "        0.993311036789298 99.3311036789298\n",
              "        0.993311036789298 99.3311036789298\n",
              "        1                 100             \n",
              "totales                                   "
            ]
          },
          "metadata": {
            "tags": []
          }
        },
        {
          "output_type": "display_data",
          "data": {
            "image/png": "[encoded data removed]",
            "text/plain": [
              "Plot with title “Histograma: Creatinina sérica”"
            ]
          },
          "metadata": {
            "tags": [],
            "image/png": {
              "width": 420,
              "height": 420
            }
          }
        }
      ]
    },
    {
      "cell_type": "markdown",
      "metadata": {
        "id": "rIJq9_WTuwIn"
      },
      "source": [
        "**Análisis:** A la variable contínua analizada (Creatinina sérica) se la ha organizado en 9 clases dependiendo de la cantidad de ésta en la sangre. La mayoría de pacientes (232), el 78% aproximadamente de pacientes tienen valores comprendidos entre 0,5 y 1,5. Dos personas que comprenden un 1% tienen valores elevados de creatinina sérica muy altos, comprendidos entre 8,5 y 9,5."
      ]
    },
    {
      "cell_type": "markdown",
      "metadata": {
        "id": "u3Lj0bKwpJ-G"
      },
      "source": [
        "MEDIA"
      ]
    },
    {
      "cell_type": "code",
      "metadata": {
        "colab": {
          "base_uri": "https://localhost:8080/",
          "height": 34
        },
        "id": "HhO-R1j-pvzh",
        "outputId": "de976a00-e68f-4004-853c-d6cfd1c85ab4"
      },
      "source": [
        "mean(creatininaserica)"
      ],
      "execution_count": 245,
      "outputs": [
        {
          "output_type": "display_data",
          "data": {
            "text/plain": [
              "[1] 1.39388"
            ],
            "text/latex": "1.39387959866221",
            "text/markdown": "1.39387959866221",
            "text/html": [
              "1.39387959866221"
            ]
          },
          "metadata": {
            "tags": []
          }
        }
      ]
    },
    {
      "cell_type": "markdown",
      "metadata": {
        "id": "KZAR1pbVpRed"
      },
      "source": [
        "MEDIANA"
      ]
    },
    {
      "cell_type": "code",
      "metadata": {
        "colab": {
          "base_uri": "https://localhost:8080/",
          "height": 34
        },
        "id": "-3wPraf1p02J",
        "outputId": "dc9578f9-7514-4a24-d698-e7f04579cd8b"
      },
      "source": [
        "median(creatininaserica)"
      ],
      "execution_count": 246,
      "outputs": [
        {
          "output_type": "display_data",
          "data": {
            "text/plain": [
              "[1] 1.1"
            ],
            "text/latex": "1.1",
            "text/markdown": "1.1",
            "text/html": [
              "1.1"
            ]
          },
          "metadata": {
            "tags": []
          }
        }
      ]
    },
    {
      "cell_type": "markdown",
      "metadata": {
        "id": "8T9uUjJ1pS8T"
      },
      "source": [
        "RANGO ESTADISTICO"
      ]
    },
    {
      "cell_type": "code",
      "metadata": {
        "colab": {
          "base_uri": "https://localhost:8080/",
          "height": 34
        },
        "id": "ZZyoT44zp_Wl",
        "outputId": "7539bfa5-b37a-4dff-9568-49236a1e502c"
      },
      "source": [
        "max(creatininaserica)-min(creatininaserica)"
      ],
      "execution_count": 247,
      "outputs": [
        {
          "output_type": "display_data",
          "data": {
            "text/plain": [
              "[1] 8.9"
            ],
            "text/latex": "8.9",
            "text/markdown": "8.9",
            "text/html": [
              "8.9"
            ]
          },
          "metadata": {
            "tags": []
          }
        }
      ]
    },
    {
      "cell_type": "markdown",
      "metadata": {
        "id": "tbIr8Gy_pVX8"
      },
      "source": [
        "RANGO INTERCUANTILICO"
      ]
    },
    {
      "cell_type": "code",
      "metadata": {
        "colab": {
          "base_uri": "https://localhost:8080/",
          "height": 34
        },
        "id": "3_wNo-XwqHd2",
        "outputId": "236ff734-d600-4ce5-c649-520816cb1efe"
      },
      "source": [
        "q1<-quantile(creatininaserica,0.25)\n",
        "q3<-quantile(creatininaserica,0.75)\n",
        "q3-q1"
      ],
      "execution_count": 248,
      "outputs": [
        {
          "output_type": "display_data",
          "data": {
            "text/plain": [
              "75% \n",
              "0.5 "
            ],
            "text/latex": "\\textbf{75\\textbackslash{}\\%:} 0.5",
            "text/markdown": "**75%:** 0.5",
            "text/html": [
              "<strong>75%:</strong> 0.5"
            ]
          },
          "metadata": {
            "tags": []
          }
        }
      ]
    },
    {
      "cell_type": "markdown",
      "metadata": {
        "id": "_ZEFkEbupY5e"
      },
      "source": [
        "VARIANZA"
      ]
    },
    {
      "cell_type": "code",
      "metadata": {
        "colab": {
          "base_uri": "https://localhost:8080/",
          "height": 34
        },
        "id": "Mx87O0BJqO_s",
        "outputId": "7f555c65-1544-4e73-b47e-971c05eadd44"
      },
      "source": [
        "var(creatininaserica)"
      ],
      "execution_count": 249,
      "outputs": [
        {
          "output_type": "display_data",
          "data": {
            "text/plain": [
              "[1] 1.070211"
            ],
            "text/latex": "1.07021107270319",
            "text/markdown": "1.07021107270319",
            "text/html": [
              "1.07021107270319"
            ]
          },
          "metadata": {
            "tags": []
          }
        }
      ]
    },
    {
      "cell_type": "markdown",
      "metadata": {
        "id": "OMFmjzyopa7l"
      },
      "source": [
        "DESVIACION ESTANDAR"
      ]
    },
    {
      "cell_type": "code",
      "metadata": {
        "colab": {
          "base_uri": "https://localhost:8080/",
          "height": 34
        },
        "id": "r68TvLgaqSqf",
        "outputId": "4b96ed18-1455-4e9e-e1f7-d8bc2b93262a"
      },
      "source": [
        "sd(creatininaserica)"
      ],
      "execution_count": 250,
      "outputs": [
        {
          "output_type": "display_data",
          "data": {
            "text/plain": [
              "[1] 1.03451"
            ],
            "text/latex": "1.03451006408985",
            "text/markdown": "1.03451006408985",
            "text/html": [
              "1.03451006408985"
            ]
          },
          "metadata": {
            "tags": []
          }
        }
      ]
    },
    {
      "cell_type": "markdown",
      "metadata": {
        "id": "x2vAjxRlpfj9"
      },
      "source": [
        "COEFICIENTE DE VARIABILIDAD"
      ]
    },
    {
      "cell_type": "code",
      "metadata": {
        "colab": {
          "base_uri": "https://localhost:8080/",
          "height": 34
        },
        "id": "ozkS619NqWTU",
        "outputId": "a636366f-d9c7-4c2f-c3ad-bfd1c0990f5b"
      },
      "source": [
        "sd(creatininaserica)/mean(creatininaserica)*100"
      ],
      "execution_count": 251,
      "outputs": [
        {
          "output_type": "display_data",
          "data": {
            "text/plain": [
              "[1] 74.21804"
            ],
            "text/latex": "74.2180361261287",
            "text/markdown": "74.2180361261287",
            "text/html": [
              "74.2180361261287"
            ]
          },
          "metadata": {
            "tags": []
          }
        }
      ]
    },
    {
      "cell_type": "markdown",
      "metadata": {
        "id": "FP6-UZs_phvd"
      },
      "source": [
        "GRAFICO DE CAJAS Y BIGOTES"
      ]
    },
    {
      "cell_type": "code",
      "metadata": {
        "colab": {
          "base_uri": "https://localhost:8080/",
          "height": 437
        },
        "id": "uS7zanQnqher",
        "outputId": "c6cdf241-cc0f-4f26-abb0-042597350ed8"
      },
      "source": [
        "boxplot(creatininaserica,vertical = TRUE)"
      ],
      "execution_count": 253,
      "outputs": [
        {
          "output_type": "display_data",
          "data": {
            "image/png": "[encoded data removed]",
            "text/plain": [
              "plot without title"
            ]
          },
          "metadata": {
            "tags": [],
            "image/png": {
              "width": 420,
              "height": 420
            }
          }
        }
      ]
    },
    {
      "cell_type": "markdown",
      "metadata": {
        "id": "OkffdaCbqqh-"
      },
      "source": [
        "**Análisis:** Tenemos una distribución asimétrica positiva pues la mayor dispersión se encuentra en el 50% superior. Pocas personas tienen valores elevados de creatinina sérica por fuera del límite superior, la mayor parte de personas (232) tiene valores comprendidos entre 0.5 y 1.5 de creatinina en sangre. Encontramos varios valores atípicos muy elevados y por fuera del límite superior lo cual podría indicar alguna otra patología en esas personas."
      ]
    },
    {
      "cell_type": "markdown",
      "metadata": {
        "id": "Ey2nKiHjpp7t"
      },
      "source": [
        "ASIMETRIA"
      ]
    },
    {
      "cell_type": "code",
      "metadata": {
        "colab": {
          "base_uri": "https://localhost:8080/",
          "height": 34
        },
        "id": "kbRXnT8wqtZU",
        "outputId": "6de2edc2-588d-44d8-ed69-df9a4f3a467c"
      },
      "source": [
        "3*(mean(creatininaserica)-median(creatininaserica))/sd(creatininaserica)"
      ],
      "execution_count": 254,
      "outputs": [
        {
          "output_type": "display_data",
          "data": {
            "text/plain": [
              "[1] 0.8522283"
            ],
            "text/latex": "0.852228341308863",
            "text/markdown": "0.852228341308863",
            "text/html": [
              "0.852228341308863"
            ]
          },
          "metadata": {
            "tags": []
          }
        }
      ]
    },
    {
      "cell_type": "markdown",
      "metadata": {
        "id": "VWyzmrdORSvK"
      },
      "source": [
        "*Tiene una distribución asimétrica, pues el valor es mayor de 0.*"
      ]
    },
    {
      "cell_type": "markdown",
      "metadata": {
        "id": "R8ijg8dPpr0b"
      },
      "source": [
        "CURTOSIS"
      ]
    },
    {
      "cell_type": "code",
      "metadata": {
        "colab": {
          "base_uri": "https://localhost:8080/",
          "height": 34
        },
        "id": "XdWdbJBEHPUX",
        "outputId": "142c25d4-0d80-4b9f-afde-0e9830199320"
      },
      "source": [
        "q1<-quantile(creatinaserica,0.25)\n",
        "q3<-quantile(creatinaserica,0.75)\n",
        "d1<-quantile(creatinaserica,0.10)\n",
        "d9<-quantile(creatinaserica,0.90)\n",
        "0.5*(q3-q1)/(d9-d1)"
      ],
      "execution_count": 255,
      "outputs": [
        {
          "output_type": "display_data",
          "data": {
            "text/plain": [
              "      75% \n",
              "0.1923077 "
            ],
            "text/latex": "\\textbf{75\\textbackslash{}\\%:} 0.192307692307692",
            "text/markdown": "**75%:** 0.192307692307692",
            "text/html": [
              "<strong>75%:</strong> 0.192307692307692"
            ]
          },
          "metadata": {
            "tags": []
          }
        }
      ]
    },
    {
      "cell_type": "markdown",
      "metadata": {
        "id": "nCCaJ2jGRUdh"
      },
      "source": [
        "*Tiene una distribución platicúrtica, el valor es menor de 0.25*"
      ]
    },
    {
      "cell_type": "markdown",
      "metadata": {
        "id": "LBCzWO7QrF55"
      },
      "source": [
        "\n",
        "\n",
        "---\n",
        "\n"
      ]
    },
    {
      "cell_type": "markdown",
      "metadata": {
        "id": "XiF9bBUprN4G"
      },
      "source": [
        "- *VARIABLE SODIO SERICO*"
      ]
    },
    {
      "cell_type": "code",
      "metadata": {
        "colab": {
          "base_uri": "https://localhost:8080/",
          "height": 34
        },
        "id": "dUob6nM2BPPZ",
        "outputId": "0f18053e-9d3c-4f2b-fda9-5b7b4341c3d2"
      },
      "source": [
        "sodioserico<-datos$serum_sodium\n",
        "#tf1(sodioserico,'Variable sodioserico')\n",
        "k<-1+3.32*log10(299)\n",
        "round(k)"
      ],
      "execution_count": 256,
      "outputs": [
        {
          "output_type": "display_data",
          "data": {
            "text/plain": [
              "[1] 9"
            ],
            "text/latex": "9",
            "text/markdown": "9",
            "text/html": [
              "9"
            ]
          },
          "metadata": {
            "tags": []
          }
        }
      ]
    },
    {
      "cell_type": "code",
      "metadata": {
        "id": "WncP11cyBRiw"
      },
      "source": [
        "calW<-function(v){\n",
        "  r=max(v)-min(v)\n",
        "  k=1+3.32*log10(length(v))\n",
        "  k<-round(k)\n",
        "  w=r/k\n",
        "  w\n",
        "}"
      ],
      "execution_count": 257,
      "outputs": []
    },
    {
      "cell_type": "markdown",
      "metadata": {
        "id": "X-SLj2YVRiGS"
      },
      "source": [
        "ANCHO DE CLASES"
      ]
    },
    {
      "cell_type": "code",
      "metadata": {
        "colab": {
          "base_uri": "https://localhost:8080/",
          "height": 34
        },
        "id": "accfaJfqBTdL",
        "outputId": "078863ee-3bda-4703-c819-24209a4e429f"
      },
      "source": [
        "calW(sodioserico)\n",
        "w<-4"
      ],
      "execution_count": 258,
      "outputs": [
        {
          "output_type": "display_data",
          "data": {
            "text/plain": [
              "[1] 3.888889"
            ],
            "text/latex": "3.88888888888889",
            "text/markdown": "3.88888888888889",
            "text/html": [
              "3.88888888888889"
            ]
          },
          "metadata": {
            "tags": []
          }
        }
      ]
    },
    {
      "cell_type": "code",
      "metadata": {
        "id": "71-P5rywBU7H"
      },
      "source": [
        "tfCont<-function(v,w,nombre){\n",
        "  k=1+3.32*log10(length(v))\n",
        "  k=round(k)\n",
        "  LS<-c()\n",
        "  LI<-c()\n",
        "  LS[1]=min(v)+w\n",
        "  LI[1]=min(v)\n",
        "  for (i in 2:k){ \n",
        "    LS[i]=LS[i-1]+w\n",
        "    LI[i]=LI[i-1]+w\n",
        "  }\n",
        "  h<-hist(v,seq(min(v),max(LS),w),plot=F)\n",
        "  fi<-h$counts\n",
        "  hi<-fi/sum(fi)\n",
        "  pi<-hi*100\n",
        "  Fi<-cumsum(fi)\n",
        "  Hi<-cumsum(hi)\n",
        "  Pi<-cumsum(pi)\n",
        "  hist(v,seq(min(v),max(LS),w),freq=FALSE,col='green',plot=T,main = paste('Histograma:',nombre))\n",
        "  lines(density(v),col=\"red\",lwd=2)\n",
        "  abline(v=mean(v),col='red')\n",
        "  abline(v=median(v),col='blue')\n",
        "  curve(dnorm(x,mean=mean(v),sd=sd(v)), from=800,to=1600,add=TRUE, col=\"blue\", lwd=2)\n",
        "  K<-1:k\n",
        "  atributos<-cbind(K,LI,LS,fi,hi,pi,Fi,Hi,Pi)\n",
        "  totales<-c(' ',' ','TOTAL',sum(fi),sum(hi),sum(pi),' ',' ',' ')\n",
        "  r<-rbind(atributos,totales)\n",
        "  View(r)\n",
        "}"
      ],
      "execution_count": 259,
      "outputs": []
    },
    {
      "cell_type": "code",
      "metadata": {
        "colab": {
          "base_uri": "https://localhost:8080/",
          "height": 794
        },
        "id": "exilUw0LBY57",
        "outputId": "d9b8b989-1620-452a-9177-60cfc3610911"
      },
      "source": [
        "tfCont(sodioserico,4,'Sodio Sérico')"
      ],
      "execution_count": 260,
      "outputs": [
        {
          "output_type": "display_data",
          "data": {
            "text/markdown": "\nA matrix: 10 × 9 of type chr\n\n| <!--/--> | K | LI | LS | fi | hi | pi | Fi | Hi | Pi |\n|---|---|---|---|---|---|---|---|---|---|\n| <!----> | 1 | 113 | 117   | 2   | 0.00668896321070234 | 0.668896321070234 | 2   | 0.00668896321070234 | 0.668896321070234 |\n| <!----> | 2 | 117 | 121   | 1   | 0.00334448160535117 | 0.334448160535117 | 3   | 0.0100334448160535  | 1.00334448160535  |\n| <!----> | 3 | 121 | 125   | 2   | 0.00668896321070234 | 0.668896321070234 | 5   | 0.0167224080267559  | 1.67224080267559  |\n| <!----> | 4 | 125 | 129   | 8   | 0.0267558528428094  | 2.67558528428094  | 13  | 0.0434782608695652  | 4.34782608695652  |\n| <!----> | 5 | 129 | 133   | 38  | 0.127090301003344   | 12.7090301003344  | 51  | 0.17056856187291    | 17.056856187291   |\n| <!----> | 6 | 133 | 137   | 126 | 0.421404682274247   | 42.1404682274247  | 177 | 0.591973244147157   | 59.1973244147157  |\n| <!----> | 7 | 137 | 141   | 92  | 0.307692307692308   | 30.7692307692308  | 269 | 0.899665551839465   | 89.9665551839465  |\n| <!----> | 8 | 141 | 145   | 28  | 0.0936454849498328  | 9.36454849498328  | 297 | 0.993311036789298   | 99.3311036789298  |\n| <!----> | 9 | 145 | 149   | 2   | 0.00668896321070234 | 0.668896321070234 | 299 | 1                   | 100               |\n| totales | <!----> | <!----> | TOTAL | 299 | 1                   | 100               | <!----> | <!----> | <!----> |\n\n",
            "text/latex": "A matrix: 10 × 9 of type chr\n\\begin{tabular}{r|lllllllll}\n  & K & LI & LS & fi & hi & pi & Fi & Hi & Pi\\\\\n\\hline\n\t & 1 & 113 & 117   & 2   & 0.00668896321070234 & 0.668896321070234 & 2   & 0.00668896321070234 & 0.668896321070234\\\\\n\t & 2 & 117 & 121   & 1   & 0.00334448160535117 & 0.334448160535117 & 3   & 0.0100334448160535  & 1.00334448160535 \\\\\n\t & 3 & 121 & 125   & 2   & 0.00668896321070234 & 0.668896321070234 & 5   & 0.0167224080267559  & 1.67224080267559 \\\\\n\t & 4 & 125 & 129   & 8   & 0.0267558528428094  & 2.67558528428094  & 13  & 0.0434782608695652  & 4.34782608695652 \\\\\n\t & 5 & 129 & 133   & 38  & 0.127090301003344   & 12.7090301003344  & 51  & 0.17056856187291    & 17.056856187291  \\\\\n\t & 6 & 133 & 137   & 126 & 0.421404682274247   & 42.1404682274247  & 177 & 0.591973244147157   & 59.1973244147157 \\\\\n\t & 7 & 137 & 141   & 92  & 0.307692307692308   & 30.7692307692308  & 269 & 0.899665551839465   & 89.9665551839465 \\\\\n\t & 8 & 141 & 145   & 28  & 0.0936454849498328  & 9.36454849498328  & 297 & 0.993311036789298   & 99.3311036789298 \\\\\n\t & 9 & 145 & 149   & 2   & 0.00668896321070234 & 0.668896321070234 & 299 & 1                   & 100              \\\\\n\ttotales &   &     & TOTAL & 299 & 1                   & 100               &     &                     &                  \\\\\n\\end{tabular}\n",
            "text/html": [
              "<table class=\"dataframe\">\n",
              "<caption>A matrix: 10 × 9 of type chr</caption>\n",
              "<thead>\n",
              "\t<tr><th></th><th scope=col>K</th><th scope=col>LI</th><th scope=col>LS</th><th scope=col>fi</th><th scope=col>hi</th><th scope=col>pi</th><th scope=col>Fi</th><th scope=col>Hi</th><th scope=col>Pi</th></tr>\n",
              "</thead>\n",
              "<tbody>\n",
              "\t<tr><th scope=row></th><td>1</td><td>113</td><td>117  </td><td>2  </td><td>0.00668896321070234</td><td>0.668896321070234</td><td>2  </td><td>0.00668896321070234</td><td>0.668896321070234</td></tr>\n",
              "\t<tr><th scope=row></th><td>2</td><td>117</td><td>121  </td><td>1  </td><td>0.00334448160535117</td><td>0.334448160535117</td><td>3  </td><td>0.0100334448160535 </td><td>1.00334448160535 </td></tr>\n",
              "\t<tr><th scope=row></th><td>3</td><td>121</td><td>125  </td><td>2  </td><td>0.00668896321070234</td><td>0.668896321070234</td><td>5  </td><td>0.0167224080267559 </td><td>1.67224080267559 </td></tr>\n",
              "\t<tr><th scope=row></th><td>4</td><td>125</td><td>129  </td><td>8  </td><td>0.0267558528428094 </td><td>2.67558528428094 </td><td>13 </td><td>0.0434782608695652 </td><td>4.34782608695652 </td></tr>\n",
              "\t<tr><th scope=row></th><td>5</td><td>129</td><td>133  </td><td>38 </td><td>0.127090301003344  </td><td>12.7090301003344 </td><td>51 </td><td>0.17056856187291   </td><td>17.056856187291  </td></tr>\n",
              "\t<tr><th scope=row></th><td>6</td><td>133</td><td>137  </td><td>126</td><td>0.421404682274247  </td><td>42.1404682274247 </td><td>177</td><td>0.591973244147157  </td><td>59.1973244147157 </td></tr>\n",
              "\t<tr><th scope=row></th><td>7</td><td>137</td><td>141  </td><td>92 </td><td>0.307692307692308  </td><td>30.7692307692308 </td><td>269</td><td>0.899665551839465  </td><td>89.9665551839465 </td></tr>\n",
              "\t<tr><th scope=row></th><td>8</td><td>141</td><td>145  </td><td>28 </td><td>0.0936454849498328 </td><td>9.36454849498328 </td><td>297</td><td>0.993311036789298  </td><td>99.3311036789298 </td></tr>\n",
              "\t<tr><th scope=row></th><td>9</td><td>145</td><td>149  </td><td>2  </td><td>0.00668896321070234</td><td>0.668896321070234</td><td>299</td><td>1                  </td><td>100              </td></tr>\n",
              "\t<tr><th scope=row>totales</th><td> </td><td>   </td><td>TOTAL</td><td>299</td><td>1                  </td><td>100              </td><td>   </td><td>                   </td><td>                 </td></tr>\n",
              "</tbody>\n",
              "</table>\n"
            ],
            "text/plain": [
              "        K LI  LS    fi  hi                  pi                Fi \n",
              "        1 113 117   2   0.00668896321070234 0.668896321070234 2  \n",
              "        2 117 121   1   0.00334448160535117 0.334448160535117 3  \n",
              "        3 121 125   2   0.00668896321070234 0.668896321070234 5  \n",
              "        4 125 129   8   0.0267558528428094  2.67558528428094  13 \n",
              "        5 129 133   38  0.127090301003344   12.7090301003344  51 \n",
              "        6 133 137   126 0.421404682274247   42.1404682274247  177\n",
              "        7 137 141   92  0.307692307692308   30.7692307692308  269\n",
              "        8 141 145   28  0.0936454849498328  9.36454849498328  297\n",
              "        9 145 149   2   0.00668896321070234 0.668896321070234 299\n",
              "totales       TOTAL 299 1                   100                  \n",
              "        Hi                  Pi               \n",
              "        0.00668896321070234 0.668896321070234\n",
              "        0.0100334448160535  1.00334448160535 \n",
              "        0.0167224080267559  1.67224080267559 \n",
              "        0.0434782608695652  4.34782608695652 \n",
              "        0.17056856187291    17.056856187291  \n",
              "        0.591973244147157   59.1973244147157 \n",
              "        0.899665551839465   89.9665551839465 \n",
              "        0.993311036789298   99.3311036789298 \n",
              "        1                   100              \n",
              "totales                                      "
            ]
          },
          "metadata": {
            "tags": []
          }
        },
        {
          "output_type": "display_data",
          "data": {
            "image/png": "[encoded data removed]",
            "text/plain": [
              "Plot with title “Histograma: Sodio Sérico”"
            ]
          },
          "metadata": {
            "tags": [],
            "image/png": {
              "width": 420,
              "height": 420
            }
          }
        }
      ]
    },
    {
      "cell_type": "markdown",
      "metadata": {
        "id": "4qGCsEOhv7Y1"
      },
      "source": [
        "**Análisis:** A la variable contínua analizada (Sodio Sérico) se la ha organizado en 9 clases dependiendo de la cantidad de sodio en sangre. La mayoría de personas tienen valores comprendidos entre 133-137 que son un 42% de los pacientes. Los valores altos de sodio sérico de entre 145-149 comprende solamente dos pacientes lo cual puede originar además hipertensión. Estos valores nos sirve para referenciar con valores normales de sodio en sangre."
      ]
    },
    {
      "cell_type": "markdown",
      "metadata": {
        "id": "O_H-wHTYr34l"
      },
      "source": [
        "MEDIA"
      ]
    },
    {
      "cell_type": "code",
      "metadata": {
        "colab": {
          "base_uri": "https://localhost:8080/",
          "height": 34
        },
        "id": "FpVEd6ZqsTWC",
        "outputId": "c1aa4fd1-4cfe-4ec7-c0f9-e9a032482ef3"
      },
      "source": [
        "mean(sodioserico)"
      ],
      "execution_count": 261,
      "outputs": [
        {
          "output_type": "display_data",
          "data": {
            "text/plain": [
              "[1] 136.6254"
            ],
            "text/latex": "136.625418060201",
            "text/markdown": "136.625418060201",
            "text/html": [
              "136.625418060201"
            ]
          },
          "metadata": {
            "tags": []
          }
        }
      ]
    },
    {
      "cell_type": "markdown",
      "metadata": {
        "id": "vIaAeY0xr6mN"
      },
      "source": [
        "MEDIANA"
      ]
    },
    {
      "cell_type": "code",
      "metadata": {
        "colab": {
          "base_uri": "https://localhost:8080/",
          "height": 34
        },
        "id": "R2nau-i6sWzf",
        "outputId": "9216be79-b63d-4edd-e2c8-05fe25f08f43"
      },
      "source": [
        "median(sodioserico)"
      ],
      "execution_count": 262,
      "outputs": [
        {
          "output_type": "display_data",
          "data": {
            "text/plain": [
              "[1] 137"
            ],
            "text/latex": "137",
            "text/markdown": "137",
            "text/html": [
              "137"
            ]
          },
          "metadata": {
            "tags": []
          }
        }
      ]
    },
    {
      "cell_type": "markdown",
      "metadata": {
        "id": "WoAxtvBQr7k8"
      },
      "source": [
        "RANGO ESTADISTICO"
      ]
    },
    {
      "cell_type": "code",
      "metadata": {
        "colab": {
          "base_uri": "https://localhost:8080/",
          "height": 34
        },
        "id": "Hpr6B6FwsdN2",
        "outputId": "51c632b8-908c-4998-bbe8-177c50b3056b"
      },
      "source": [
        "max(sodioserico)-min(sodioserico)"
      ],
      "execution_count": 263,
      "outputs": [
        {
          "output_type": "display_data",
          "data": {
            "text/plain": [
              "[1] 35"
            ],
            "text/latex": "35",
            "text/markdown": "35",
            "text/html": [
              "35"
            ]
          },
          "metadata": {
            "tags": []
          }
        }
      ]
    },
    {
      "cell_type": "markdown",
      "metadata": {
        "id": "Ce3Zu_hpr-R0"
      },
      "source": [
        "RANGO INTERCUANTILICO"
      ]
    },
    {
      "cell_type": "code",
      "metadata": {
        "colab": {
          "base_uri": "https://localhost:8080/",
          "height": 34
        },
        "id": "-zGy1Qs5shIu",
        "outputId": "55095740-8f9e-424b-cd55-b3504d930500"
      },
      "source": [
        "q1<-quantile(sodioserico,0.25)\n",
        "q3<-quantile(sodioserico,0.75)\n",
        "q3-q1"
      ],
      "execution_count": 264,
      "outputs": [
        {
          "output_type": "display_data",
          "data": {
            "text/plain": [
              "75% \n",
              "  6 "
            ],
            "text/latex": "\\textbf{75\\textbackslash{}\\%:} 6",
            "text/markdown": "**75%:** 6",
            "text/html": [
              "<strong>75%:</strong> 6"
            ]
          },
          "metadata": {
            "tags": []
          }
        }
      ]
    },
    {
      "cell_type": "markdown",
      "metadata": {
        "id": "iEj0p2jPsCZ-"
      },
      "source": [
        "VARIANZA"
      ]
    },
    {
      "cell_type": "code",
      "metadata": {
        "colab": {
          "base_uri": "https://localhost:8080/",
          "height": 34
        },
        "id": "htg61tEwslBF",
        "outputId": "de1af0b4-7647-4814-8644-4d6b53c045a9"
      },
      "source": [
        "var(sodioserico)"
      ],
      "execution_count": 265,
      "outputs": [
        {
          "output_type": "display_data",
          "data": {
            "text/plain": [
              "[1] 19.46996"
            ],
            "text/latex": "19.469955781015",
            "text/markdown": "19.469955781015",
            "text/html": [
              "19.469955781015"
            ]
          },
          "metadata": {
            "tags": []
          }
        }
      ]
    },
    {
      "cell_type": "markdown",
      "metadata": {
        "id": "TtJ_mwa9sDer"
      },
      "source": [
        "DESVIACION ESTANDAR"
      ]
    },
    {
      "cell_type": "code",
      "metadata": {
        "colab": {
          "base_uri": "https://localhost:8080/",
          "height": 34
        },
        "id": "IMTbBlfcsnmd",
        "outputId": "18992fe7-4fb5-4be8-84bb-35157b958ad3"
      },
      "source": [
        "sd(sodioserico)"
      ],
      "execution_count": 266,
      "outputs": [
        {
          "output_type": "display_data",
          "data": {
            "text/plain": [
              "[1] 4.412477"
            ],
            "text/latex": "4.41247728390923",
            "text/markdown": "4.41247728390923",
            "text/html": [
              "4.41247728390923"
            ]
          },
          "metadata": {
            "tags": []
          }
        }
      ]
    },
    {
      "cell_type": "markdown",
      "metadata": {
        "id": "JlZZTbaNsGw1"
      },
      "source": [
        "COEFICIENTE DE VARIABILIDAD"
      ]
    },
    {
      "cell_type": "code",
      "metadata": {
        "colab": {
          "base_uri": "https://localhost:8080/",
          "height": 34
        },
        "id": "ffe7mga4sqOy",
        "outputId": "8837bbfb-7388-49ae-e5e5-7129b5e56b66"
      },
      "source": [
        "sd(sodioserico)/mean(sodioserico)*100"
      ],
      "execution_count": 267,
      "outputs": [
        {
          "output_type": "display_data",
          "data": {
            "text/plain": [
              "[1] 3.229617"
            ],
            "text/latex": "3.22961667496233",
            "text/markdown": "3.22961667496233",
            "text/html": [
              "3.22961667496233"
            ]
          },
          "metadata": {
            "tags": []
          }
        }
      ]
    },
    {
      "cell_type": "markdown",
      "metadata": {
        "id": "1yYain5CsK34"
      },
      "source": [
        "GRAFICO DE CAJAS Y BIGOTES"
      ]
    },
    {
      "cell_type": "code",
      "metadata": {
        "colab": {
          "base_uri": "https://localhost:8080/",
          "height": 437
        },
        "id": "YpvZoUhEs1GF",
        "outputId": "8c894469-28ee-4ddf-8726-98e79d06486d"
      },
      "source": [
        "boxplot(sodioserico,vertical = TRUE)"
      ],
      "execution_count": 269,
      "outputs": [
        {
          "output_type": "display_data",
          "data": {
            "image/png": "[encoded data removed]",
            "text/plain": [
              "plot without title"
            ]
          },
          "metadata": {
            "tags": [],
            "image/png": {
              "width": 420,
              "height": 420
            }
          }
        }
      ]
    },
    {
      "cell_type": "markdown",
      "metadata": {
        "id": "7a67VbA0tFv7"
      },
      "source": [
        "**Análisis:** Tenemos una distribución asimétrica negativa pues la mayor dispersión se encuentra en el 50% inferior. Pocas personas tienen valores bajos de sodio en sangre por fuera del límite inferior, la mayor parte de personas (126) tiene valores comprendidos entre 133 y 137 de sodio en sangre. Encontramos varios valores atípicos muy bajos y por fuera del límite inferior lo cual podría indicar que pocas personas se cuidan de consumir alimentos altos en sal."
      ]
    },
    {
      "cell_type": "markdown",
      "metadata": {
        "id": "RwRRsEwcsNIk"
      },
      "source": [
        "ASIMETRIA"
      ]
    },
    {
      "cell_type": "code",
      "metadata": {
        "colab": {
          "base_uri": "https://localhost:8080/",
          "height": 34
        },
        "id": "s_eB24d_tJf8",
        "outputId": "65372b0e-83e6-4217-882d-d1fff19be63d"
      },
      "source": [
        "3*(mean(sodioserico)-median(sodioserico))/sd(sodioserico)"
      ],
      "execution_count": 270,
      "outputs": [
        {
          "output_type": "display_data",
          "data": {
            "text/plain": [
              "[1] -0.2546746"
            ],
            "text/latex": "-0.254674584613929",
            "text/markdown": "-0.254674584613929",
            "text/html": [
              "-0.254674584613929"
            ]
          },
          "metadata": {
            "tags": []
          }
        }
      ]
    },
    {
      "cell_type": "markdown",
      "metadata": {
        "id": "K-W-v5NDTvRQ"
      },
      "source": [
        "*Tiene una distribución asimétrica con sesgo a la derecha, pues el valor es menor de 0.*"
      ]
    },
    {
      "cell_type": "markdown",
      "metadata": {
        "id": "mmcx9MJesPWt"
      },
      "source": [
        "CURTOSIS"
      ]
    },
    {
      "cell_type": "code",
      "metadata": {
        "colab": {
          "base_uri": "https://localhost:8080/",
          "height": 34
        },
        "id": "HhDrwSilIGi2",
        "outputId": "353fa89d-8480-4b23-e138-d60874da88df"
      },
      "source": [
        "q1<-quantile(sodioserico,0.25)\n",
        "q3<-quantile(sodioserico,0.75)\n",
        "d1<-quantile(sodioserico,0.10)\n",
        "d9<-quantile(sodioserico,0.90)\n",
        "0.5*(q3-q1)/(d9-d1)"
      ],
      "execution_count": 271,
      "outputs": [
        {
          "output_type": "display_data",
          "data": {
            "text/plain": [
              "     75% \n",
              "0.326087 "
            ],
            "text/latex": "\\textbf{75\\textbackslash{}\\%:} 0.32608695652174",
            "text/markdown": "**75%:** 0.32608695652174",
            "text/html": [
              "<strong>75%:</strong> 0.32608695652174"
            ]
          },
          "metadata": {
            "tags": []
          }
        }
      ]
    },
    {
      "cell_type": "markdown",
      "metadata": {
        "id": "xammJPmIVKJo"
      },
      "source": [
        "*Tiene una distribución leptocúrtica, el valor es mayor de 0.25, es decir la inmensa mayoría de personas tienen valores normales de sodio en sangre.*"
      ]
    },
    {
      "cell_type": "markdown",
      "metadata": {
        "id": "yQUfChDRtVYc"
      },
      "source": [
        "\n",
        "\n",
        "---\n",
        "\n"
      ]
    },
    {
      "cell_type": "markdown",
      "metadata": {
        "id": "OeN3c9iVtWpx"
      },
      "source": [
        "- *VARIABLE TIEMPO - PERIODO DE SEGUIMIENTO*"
      ]
    },
    {
      "cell_type": "code",
      "metadata": {
        "colab": {
          "base_uri": "https://localhost:8080/",
          "height": 34
        },
        "id": "BTJMYz6qBnlz",
        "outputId": "e156d377-92b1-415a-9940-588ac01e834d"
      },
      "source": [
        "tiempo<-datos$time\n",
        "#tf1(tiempo,'Variable tiempo')\n",
        "k<-1+3.32*log10(299)\n",
        "round(k)"
      ],
      "execution_count": 272,
      "outputs": [
        {
          "output_type": "display_data",
          "data": {
            "text/plain": [
              "[1] 9"
            ],
            "text/latex": "9",
            "text/markdown": "9",
            "text/html": [
              "9"
            ]
          },
          "metadata": {
            "tags": []
          }
        }
      ]
    },
    {
      "cell_type": "code",
      "metadata": {
        "id": "Fi0v7fNdBqkr"
      },
      "source": [
        "calW<-function(v){\n",
        "  r=max(v)-min(v)\n",
        "  k=1+3.32*log10(length(v))\n",
        "  k<-round(k)\n",
        "  w=r/k\n",
        "  w\n",
        "}"
      ],
      "execution_count": 273,
      "outputs": []
    },
    {
      "cell_type": "markdown",
      "metadata": {
        "id": "QNwmwtxkVnuA"
      },
      "source": [
        "ANCHO DE CLASES"
      ]
    },
    {
      "cell_type": "code",
      "metadata": {
        "colab": {
          "base_uri": "https://localhost:8080/",
          "height": 34
        },
        "id": "eewUPQEiBslb",
        "outputId": "c21a4ac9-38bd-4683-df4d-775c6a64ffe8"
      },
      "source": [
        "calW(tiempo)\n",
        "w<-32"
      ],
      "execution_count": 274,
      "outputs": [
        {
          "output_type": "display_data",
          "data": {
            "text/plain": [
              "[1] 31.22222"
            ],
            "text/latex": "31.2222222222222",
            "text/markdown": "31.2222222222222",
            "text/html": [
              "31.2222222222222"
            ]
          },
          "metadata": {
            "tags": []
          }
        }
      ]
    },
    {
      "cell_type": "markdown",
      "metadata": {
        "id": "DUxqSgXGtyae"
      },
      "source": [
        "TABLA DE FRECUENCIA E HISTOGRAMA"
      ]
    },
    {
      "cell_type": "code",
      "metadata": {
        "id": "3lUjtG1dBug3"
      },
      "source": [
        "tfCont<-function(v,w,nombre){\n",
        "  k=1+3.32*log10(length(v))\n",
        "  k=round(k)\n",
        "  LS<-c()\n",
        "  LI<-c()\n",
        "  LS[1]=min(v)+w\n",
        "  LI[1]=min(v)\n",
        "  for (i in 2:k){ \n",
        "    LS[i]=LS[i-1]+w\n",
        "    LI[i]=LI[i-1]+w\n",
        "  }\n",
        "  h<-hist(v,seq(min(v),max(LS),w),plot=F)\n",
        "  fi<-h$counts\n",
        "  hi<-fi/sum(fi)\n",
        "  pi<-hi*100\n",
        "  Fi<-cumsum(fi)\n",
        "  Hi<-cumsum(hi)\n",
        "  Pi<-cumsum(pi)\n",
        "  hist(v,seq(min(v),max(LS),w),freq=FALSE,col='green',plot=T,main = paste('Histograma:',nombre))\n",
        "  lines(density(v),col=\"red\",lwd=2)\n",
        "  abline(v=mean(v),col='red')\n",
        "  abline(v=median(v),col='blue')\n",
        "  curve(dnorm(x,mean=mean(v),sd=sd(v)), from=800,to=1600,add=TRUE, col=\"blue\", lwd=2)\n",
        "  K<-1:k\n",
        "  atributos<-cbind(K,LI,LS,fi,hi,pi,Fi,Hi,Pi)\n",
        "  totales<-c(' ',' ','TOTAL',sum(fi),sum(hi),sum(pi),' ',' ',' ')\n",
        "  r<-rbind(atributos,totales)\n",
        "  View(r)\n",
        "}"
      ],
      "execution_count": 275,
      "outputs": []
    },
    {
      "cell_type": "code",
      "metadata": {
        "colab": {
          "base_uri": "https://localhost:8080/",
          "height": 794
        },
        "id": "hn2egm2GBwix",
        "outputId": "262ac9a0-e160-4a8a-af2a-6b96b5864f92"
      },
      "source": [
        "tfCont(tiempo,32,'Tiempo')"
      ],
      "execution_count": 276,
      "outputs": [
        {
          "output_type": "display_data",
          "data": {
            "text/markdown": "\nA matrix: 10 × 9 of type chr\n\n| <!--/--> | K | LI | LS | fi | hi | pi | Fi | Hi | Pi |\n|---|---|---|---|---|---|---|---|---|---|\n| <!----> | 1 | 4   | 36    | 46  | 0.153846153846154  | 15.3846153846154 | 46  | 0.153846153846154 | 15.3846153846154 |\n| <!----> | 2 | 36  | 68    | 25  | 0.0836120401337793 | 8.36120401337793 | 71  | 0.237458193979933 | 23.7458193979933 |\n| <!----> | 3 | 68  | 100   | 56  | 0.187290969899666  | 18.7290969899666 | 127 | 0.424749163879599 | 42.4749163879599 |\n| <!----> | 4 | 100 | 132   | 39  | 0.130434782608696  | 13.0434782608696 | 166 | 0.555183946488294 | 55.5183946488294 |\n| <!----> | 5 | 132 | 164   | 18  | 0.0602006688963211 | 6.02006688963211 | 184 | 0.615384615384615 | 61.5384615384615 |\n| <!----> | 6 | 164 | 196   | 34  | 0.11371237458194   | 11.371237458194  | 218 | 0.729096989966555 | 72.9096989966555 |\n| <!----> | 7 | 196 | 228   | 39  | 0.130434782608696  | 13.0434782608696 | 257 | 0.859531772575251 | 85.9531772575251 |\n| <!----> | 8 | 228 | 260   | 36  | 0.120401337792642  | 12.0401337792642 | 293 | 0.979933110367893 | 97.9933110367893 |\n| <!----> | 9 | 260 | 292   | 6   | 0.020066889632107  | 2.0066889632107  | 299 | 1                 | 100              |\n| totales | <!----> | <!----> | TOTAL | 299 | 1                  | 100              | <!----> | <!----> | <!----> |\n\n",
            "text/latex": "A matrix: 10 × 9 of type chr\n\\begin{tabular}{r|lllllllll}\n  & K & LI & LS & fi & hi & pi & Fi & Hi & Pi\\\\\n\\hline\n\t & 1 & 4   & 36    & 46  & 0.153846153846154  & 15.3846153846154 & 46  & 0.153846153846154 & 15.3846153846154\\\\\n\t & 2 & 36  & 68    & 25  & 0.0836120401337793 & 8.36120401337793 & 71  & 0.237458193979933 & 23.7458193979933\\\\\n\t & 3 & 68  & 100   & 56  & 0.187290969899666  & 18.7290969899666 & 127 & 0.424749163879599 & 42.4749163879599\\\\\n\t & 4 & 100 & 132   & 39  & 0.130434782608696  & 13.0434782608696 & 166 & 0.555183946488294 & 55.5183946488294\\\\\n\t & 5 & 132 & 164   & 18  & 0.0602006688963211 & 6.02006688963211 & 184 & 0.615384615384615 & 61.5384615384615\\\\\n\t & 6 & 164 & 196   & 34  & 0.11371237458194   & 11.371237458194  & 218 & 0.729096989966555 & 72.9096989966555\\\\\n\t & 7 & 196 & 228   & 39  & 0.130434782608696  & 13.0434782608696 & 257 & 0.859531772575251 & 85.9531772575251\\\\\n\t & 8 & 228 & 260   & 36  & 0.120401337792642  & 12.0401337792642 & 293 & 0.979933110367893 & 97.9933110367893\\\\\n\t & 9 & 260 & 292   & 6   & 0.020066889632107  & 2.0066889632107  & 299 & 1                 & 100             \\\\\n\ttotales &   &     & TOTAL & 299 & 1                  & 100              &     &                   &                 \\\\\n\\end{tabular}\n",
            "text/html": [
              "<table class=\"dataframe\">\n",
              "<caption>A matrix: 10 × 9 of type chr</caption>\n",
              "<thead>\n",
              "\t<tr><th></th><th scope=col>K</th><th scope=col>LI</th><th scope=col>LS</th><th scope=col>fi</th><th scope=col>hi</th><th scope=col>pi</th><th scope=col>Fi</th><th scope=col>Hi</th><th scope=col>Pi</th></tr>\n",
              "</thead>\n",
              "<tbody>\n",
              "\t<tr><th scope=row></th><td>1</td><td>4  </td><td>36   </td><td>46 </td><td>0.153846153846154 </td><td>15.3846153846154</td><td>46 </td><td>0.153846153846154</td><td>15.3846153846154</td></tr>\n",
              "\t<tr><th scope=row></th><td>2</td><td>36 </td><td>68   </td><td>25 </td><td>0.0836120401337793</td><td>8.36120401337793</td><td>71 </td><td>0.237458193979933</td><td>23.7458193979933</td></tr>\n",
              "\t<tr><th scope=row></th><td>3</td><td>68 </td><td>100  </td><td>56 </td><td>0.187290969899666 </td><td>18.7290969899666</td><td>127</td><td>0.424749163879599</td><td>42.4749163879599</td></tr>\n",
              "\t<tr><th scope=row></th><td>4</td><td>100</td><td>132  </td><td>39 </td><td>0.130434782608696 </td><td>13.0434782608696</td><td>166</td><td>0.555183946488294</td><td>55.5183946488294</td></tr>\n",
              "\t<tr><th scope=row></th><td>5</td><td>132</td><td>164  </td><td>18 </td><td>0.0602006688963211</td><td>6.02006688963211</td><td>184</td><td>0.615384615384615</td><td>61.5384615384615</td></tr>\n",
              "\t<tr><th scope=row></th><td>6</td><td>164</td><td>196  </td><td>34 </td><td>0.11371237458194  </td><td>11.371237458194 </td><td>218</td><td>0.729096989966555</td><td>72.9096989966555</td></tr>\n",
              "\t<tr><th scope=row></th><td>7</td><td>196</td><td>228  </td><td>39 </td><td>0.130434782608696 </td><td>13.0434782608696</td><td>257</td><td>0.859531772575251</td><td>85.9531772575251</td></tr>\n",
              "\t<tr><th scope=row></th><td>8</td><td>228</td><td>260  </td><td>36 </td><td>0.120401337792642 </td><td>12.0401337792642</td><td>293</td><td>0.979933110367893</td><td>97.9933110367893</td></tr>\n",
              "\t<tr><th scope=row></th><td>9</td><td>260</td><td>292  </td><td>6  </td><td>0.020066889632107 </td><td>2.0066889632107 </td><td>299</td><td>1                </td><td>100             </td></tr>\n",
              "\t<tr><th scope=row>totales</th><td> </td><td>   </td><td>TOTAL</td><td>299</td><td>1                 </td><td>100             </td><td>   </td><td>                 </td><td>                </td></tr>\n",
              "</tbody>\n",
              "</table>\n"
            ],
            "text/plain": [
              "        K LI  LS    fi  hi                 pi               Fi \n",
              "        1 4   36    46  0.153846153846154  15.3846153846154 46 \n",
              "        2 36  68    25  0.0836120401337793 8.36120401337793 71 \n",
              "        3 68  100   56  0.187290969899666  18.7290969899666 127\n",
              "        4 100 132   39  0.130434782608696  13.0434782608696 166\n",
              "        5 132 164   18  0.0602006688963211 6.02006688963211 184\n",
              "        6 164 196   34  0.11371237458194   11.371237458194  218\n",
              "        7 196 228   39  0.130434782608696  13.0434782608696 257\n",
              "        8 228 260   36  0.120401337792642  12.0401337792642 293\n",
              "        9 260 292   6   0.020066889632107  2.0066889632107  299\n",
              "totales       TOTAL 299 1                  100                 \n",
              "        Hi                Pi              \n",
              "        0.153846153846154 15.3846153846154\n",
              "        0.237458193979933 23.7458193979933\n",
              "        0.424749163879599 42.4749163879599\n",
              "        0.555183946488294 55.5183946488294\n",
              "        0.615384615384615 61.5384615384615\n",
              "        0.729096989966555 72.9096989966555\n",
              "        0.859531772575251 85.9531772575251\n",
              "        0.979933110367893 97.9933110367893\n",
              "        1                 100             \n",
              "totales                                   "
            ]
          },
          "metadata": {
            "tags": []
          }
        },
        {
          "output_type": "display_data",
          "data": {
            "image/png": "[encoded data removed]",
            "text/plain": [
              "Plot with title “Histograma: Tiempo”"
            ]
          },
          "metadata": {
            "tags": [],
            "image/png": {
              "width": 420,
              "height": 420
            }
          }
        }
      ]
    },
    {
      "cell_type": "markdown",
      "metadata": {
        "id": "BKmEm8EHznrZ"
      },
      "source": [
        "**Análisis:** A la variable contínua analizada (Periodo de seguimiento) se la ha organizado en 9 clases dependiendo de la cantidad de días atendidos. Sólo existen 6 personas o un 2% con un seguimiento de más de 260 días. Las personas que llevan menos de un mes con el seguimiento corresponden al 15% de los pacientes o 46 personas."
      ]
    },
    {
      "cell_type": "markdown",
      "metadata": {
        "id": "FYwZyM7JvNaF"
      },
      "source": [
        "MEDIA"
      ]
    },
    {
      "cell_type": "code",
      "metadata": {
        "colab": {
          "base_uri": "https://localhost:8080/",
          "height": 34
        },
        "id": "C5_LsiHyvkLJ",
        "outputId": "f1bd88dc-df9f-404e-dc61-46e05ed6cd83"
      },
      "source": [
        "mean(tiempo)"
      ],
      "execution_count": 277,
      "outputs": [
        {
          "output_type": "display_data",
          "data": {
            "text/plain": [
              "[1] 130.2609"
            ],
            "text/latex": "130.260869565217",
            "text/markdown": "130.260869565217",
            "text/html": [
              "130.260869565217"
            ]
          },
          "metadata": {
            "tags": []
          }
        }
      ]
    },
    {
      "cell_type": "markdown",
      "metadata": {
        "id": "-T50t8C-vOyd"
      },
      "source": [
        "MEDIANA"
      ]
    },
    {
      "cell_type": "code",
      "metadata": {
        "colab": {
          "base_uri": "https://localhost:8080/",
          "height": 34
        },
        "id": "sMDND0SQvpDu",
        "outputId": "7fca591d-4ff2-43e0-a7fb-27037ede8ca2"
      },
      "source": [
        "median(tiempo)"
      ],
      "execution_count": 278,
      "outputs": [
        {
          "output_type": "display_data",
          "data": {
            "text/plain": [
              "[1] 115"
            ],
            "text/latex": "115",
            "text/markdown": "115",
            "text/html": [
              "115"
            ]
          },
          "metadata": {
            "tags": []
          }
        }
      ]
    },
    {
      "cell_type": "markdown",
      "metadata": {
        "id": "fmQjT9apvPml"
      },
      "source": [
        "RANGO ESTADISTICO"
      ]
    },
    {
      "cell_type": "code",
      "metadata": {
        "colab": {
          "base_uri": "https://localhost:8080/",
          "height": 34
        },
        "id": "t5maXwE5vsAv",
        "outputId": "1d01a686-f13a-4140-f9e2-96d75c2977bd"
      },
      "source": [
        "max(tiempo)-min(tiempo)"
      ],
      "execution_count": 279,
      "outputs": [
        {
          "output_type": "display_data",
          "data": {
            "text/plain": [
              "[1] 281"
            ],
            "text/latex": "281",
            "text/markdown": "281",
            "text/html": [
              "281"
            ]
          },
          "metadata": {
            "tags": []
          }
        }
      ]
    },
    {
      "cell_type": "markdown",
      "metadata": {
        "id": "qTWlM5x_vSLs"
      },
      "source": [
        "RANGO INTERCUANTILICO"
      ]
    },
    {
      "cell_type": "code",
      "metadata": {
        "colab": {
          "base_uri": "https://localhost:8080/",
          "height": 34
        },
        "id": "nUJPnezhvyQs",
        "outputId": "9cc2dda8-4a4e-4b8b-ea15-48bca6630340"
      },
      "source": [
        "q1<-quantile(tiempo,0.25)\n",
        "q3<-quantile(tiempo,0.75)\n",
        "q3-q1"
      ],
      "execution_count": 280,
      "outputs": [
        {
          "output_type": "display_data",
          "data": {
            "text/plain": [
              "75% \n",
              "130 "
            ],
            "text/latex": "\\textbf{75\\textbackslash{}\\%:} 130",
            "text/markdown": "**75%:** 130",
            "text/html": [
              "<strong>75%:</strong> 130"
            ]
          },
          "metadata": {
            "tags": []
          }
        }
      ]
    },
    {
      "cell_type": "markdown",
      "metadata": {
        "id": "6QnbXVvJvUks"
      },
      "source": [
        "VARIANZA"
      ]
    },
    {
      "cell_type": "code",
      "metadata": {
        "colab": {
          "base_uri": "https://localhost:8080/",
          "height": 34
        },
        "id": "H0MKmYcrv182",
        "outputId": "9380c44d-0cad-459e-f2ec-bf902d6d3e80"
      },
      "source": [
        "var(tiempo)"
      ],
      "execution_count": 281,
      "outputs": [
        {
          "output_type": "display_data",
          "data": {
            "text/plain": [
              "[1] 6023.965"
            ],
            "text/latex": "6023.96527575139",
            "text/markdown": "6023.96527575139",
            "text/html": [
              "6023.96527575139"
            ]
          },
          "metadata": {
            "tags": []
          }
        }
      ]
    },
    {
      "cell_type": "markdown",
      "metadata": {
        "id": "XmTiItC5vWG3"
      },
      "source": [
        "DESVIACION ESTANDAR"
      ]
    },
    {
      "cell_type": "code",
      "metadata": {
        "colab": {
          "base_uri": "https://localhost:8080/",
          "height": 34
        },
        "id": "KgHujtOPv3eW",
        "outputId": "34a530e0-698f-4ded-b756-ebfeac3b814d"
      },
      "source": [
        "sd(tiempo)"
      ],
      "execution_count": 282,
      "outputs": [
        {
          "output_type": "display_data",
          "data": {
            "text/plain": [
              "[1] 77.61421"
            ],
            "text/latex": "77.6142079502934",
            "text/markdown": "77.6142079502934",
            "text/html": [
              "77.6142079502934"
            ]
          },
          "metadata": {
            "tags": []
          }
        }
      ]
    },
    {
      "cell_type": "markdown",
      "metadata": {
        "id": "q3cO_guUvYqp"
      },
      "source": [
        "COEFICIENTE DE VARIABILIDAD"
      ]
    },
    {
      "cell_type": "code",
      "metadata": {
        "colab": {
          "base_uri": "https://localhost:8080/",
          "height": 34
        },
        "id": "OXL-F9hlv6qP",
        "outputId": "d51657c8-c10c-43b9-9ee8-b09ef38e0933"
      },
      "source": [
        "sd(tiempo)/mean(tiempo)*100"
      ],
      "execution_count": 283,
      "outputs": [
        {
          "output_type": "display_data",
          "data": {
            "text/plain": [
              "[1] 59.58367"
            ],
            "text/latex": "59.5836709898781",
            "text/markdown": "59.5836709898781",
            "text/html": [
              "59.5836709898781"
            ]
          },
          "metadata": {
            "tags": []
          }
        }
      ]
    },
    {
      "cell_type": "markdown",
      "metadata": {
        "id": "Ok2g_IZ8vbMS"
      },
      "source": [
        "GRAFICO DE CAJAS Y BIGOTES"
      ]
    },
    {
      "cell_type": "code",
      "metadata": {
        "colab": {
          "base_uri": "https://localhost:8080/",
          "height": 437
        },
        "id": "QJDJHlJjwBG7",
        "outputId": "f7654aeb-0269-4cbe-ab50-84e625a11356"
      },
      "source": [
        "boxplot(tiempo,vertical = TRUE)"
      ],
      "execution_count": 284,
      "outputs": [
        {
          "output_type": "display_data",
          "data": {
            "image/png": "[encoded data removed]",
            "text/plain": [
              "plot without title"
            ]
          },
          "metadata": {
            "tags": [],
            "image/png": {
              "width": 420,
              "height": 420
            }
          }
        }
      ]
    },
    {
      "cell_type": "markdown",
      "metadata": {
        "id": "-4kGx1AFwWMm"
      },
      "source": [
        "**Análisis:** Tenemos una distribución asimétrica positiva pues la mayor dispersión se encuentra en el 50% superior y sin valores atípicos. Pocas personas (6) tienen un tiempo de seguimiento de mas de 260 días."
      ]
    },
    {
      "cell_type": "markdown",
      "metadata": {
        "id": "4SoP56ksveer"
      },
      "source": [
        "ASIMETRIA"
      ]
    },
    {
      "cell_type": "code",
      "metadata": {
        "colab": {
          "base_uri": "https://localhost:8080/",
          "height": 34
        },
        "id": "YGiyQntSwJ_k",
        "outputId": "81aaf168-8ec6-4f68-e716-4e36531135c7"
      },
      "source": [
        "3*(mean(tiempo)-median(tiempo))/sd(tiempo)"
      ],
      "execution_count": 285,
      "outputs": [
        {
          "output_type": "display_data",
          "data": {
            "text/plain": [
              "[1] 0.5898741"
            ],
            "text/latex": "0.589874069512799",
            "text/markdown": "0.589874069512799",
            "text/html": [
              "0.589874069512799"
            ]
          },
          "metadata": {
            "tags": []
          }
        }
      ]
    },
    {
      "cell_type": "markdown",
      "metadata": {
        "id": "2J_-YkKUXZ63"
      },
      "source": [
        "*Tiene una distribución asimétrica, pues el valor es mayor de 0. La distribución se encuentra sesgada hacia la izquiera (orientación positiva)*"
      ]
    },
    {
      "cell_type": "markdown",
      "metadata": {
        "id": "83j5y56Vvg1W"
      },
      "source": [
        "CURTOSIS"
      ]
    },
    {
      "cell_type": "code",
      "metadata": {
        "colab": {
          "base_uri": "https://localhost:8080/",
          "height": 34
        },
        "id": "qsmwgbfMKLnd",
        "outputId": "114625f1-8ca8-436c-f46a-029fe3b9bb95"
      },
      "source": [
        "q1<-quantile(tiempo,0.25)\n",
        "q3<-quantile(tiempo,0.75)\n",
        "d1<-quantile(tiempo,0.10)\n",
        "d9<-quantile(tiempo,0.90)\n",
        "0.5*(q3-q1)/(d9-d1)"
      ],
      "execution_count": 286,
      "outputs": [
        {
          "output_type": "display_data",
          "data": {
            "text/plain": [
              "      75% \n",
              "0.2992634 "
            ],
            "text/latex": "\\textbf{75\\textbackslash{}\\%:} 0.29926335174954",
            "text/markdown": "**75%:** 0.29926335174954",
            "text/html": [
              "<strong>75%:</strong> 0.29926335174954"
            ]
          },
          "metadata": {
            "tags": []
          }
        }
      ]
    },
    {
      "cell_type": "markdown",
      "metadata": {
        "id": "F4AfXWjyYDFO"
      },
      "source": [
        "*Tiene una distribución leptocúrtica, el valor es mayor de 0.25*"
      ]
    },
    {
      "cell_type": "markdown",
      "metadata": {
        "id": "E2twQB0fwlGU"
      },
      "source": [
        "\n",
        "\n",
        "---\n",
        "\n"
      ]
    },
    {
      "cell_type": "markdown",
      "metadata": {
        "id": "BzEIdKyaYQXH"
      },
      "source": [
        "\n",
        "\n",
        "---\n",
        "\n"
      ]
    },
    {
      "cell_type": "markdown",
      "metadata": {
        "id": "i5SSE7COw1kU"
      },
      "source": [
        "#####**5. EN QUÉ VARIABLES EXISTEN VALORES EXTREMOS?** \n",
        "En: creatinina fosfoquinasa, fracción de eyección, plaquetas, creatinina sérica, sodio sérico."
      ]
    },
    {
      "cell_type": "markdown",
      "metadata": {
        "id": "Df_Mtc7Cxcwr"
      },
      "source": [
        "#####**6. QUÉ VARIABLE CONTÍNUA ES MÁS HETEROGENEA?** \n",
        "La creatinina fosfoquinasa"
      ]
    }
  ]
}